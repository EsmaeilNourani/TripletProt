{
 "cells": [
  {
   "cell_type": "code",
   "execution_count": 2,
   "metadata": {},
   "outputs": [],
   "source": [
    "import pandas as pd \n",
    "import pickle\n",
    "import numpy as np\n",
    "import tensorflow as tf"
   ]
  },
  {
   "cell_type": "markdown",
   "metadata": {},
   "source": [
    "# Load Protein-Protein Interactions"
   ]
  },
  {
   "cell_type": "code",
   "execution_count": 5,
   "metadata": {},
   "outputs": [],
   "source": [
    "df_PPI=pd.read_csv('data/PPI.txt',sep=' ')"
   ]
  },
  {
   "cell_type": "markdown",
   "metadata": {},
   "source": [
    "* We use all interactions in the String DataBase\n",
    "* We can filter interactions to include specfic confidence score or association types"
   ]
  },
  {
   "cell_type": "code",
   "execution_count": 3,
   "metadata": {},
   "outputs": [],
   "source": [
    "#df_PPI=df_PPI[df_PPI['combined_score']>300]\n",
    "#df_PPI=df_PPI[df_PPI['experiments']>0] #==> 40%\n",
    "#df_PPI=df_PPI[(df_PPI['neighborhood']>0 ) | (df_PPI['cooccurence']>0 ) | (df_PPI['homology']>0 ) | (df_PPI['coexpression']>0 ) | (df_PPI['experiments']>0 ) | (df_PPI['database']>0) | (df_PPI['textmining']>0  ) ]\n",
    "#df_PPI=df_PPI[(df_PPI['neighborhood_transferred']>0 ) | (df_PPI['coexpression_transferred']>0 ) | (df_PPI['experiments_transferred']>0 ) | (df_PPI['database_transferred']>0 ) | (df_PPI['textmining_transferred']>0 )  ]\n",
    "#df_PPI=df_PPI[(df_PPI['experiments_transferred']>0 ) | (df_PPI['experiments']>0 )  ] # 4574962\n"
   ]
  },
  {
   "cell_type": "code",
   "execution_count": 7,
   "metadata": {},
   "outputs": [
    {
     "data": {
      "text/plain": [
       "(11759454, 16)"
      ]
     },
     "execution_count": 7,
     "metadata": {},
     "output_type": "execute_result"
    }
   ],
   "source": [
    "df_PPI.shape"
   ]
  },
  {
   "cell_type": "code",
   "execution_count": 8,
   "metadata": {},
   "outputs": [
    {
     "data": {
      "text/html": [
       "<div>\n",
       "<style scoped>\n",
       "    .dataframe tbody tr th:only-of-type {\n",
       "        vertical-align: middle;\n",
       "    }\n",
       "\n",
       "    .dataframe tbody tr th {\n",
       "        vertical-align: top;\n",
       "    }\n",
       "\n",
       "    .dataframe thead th {\n",
       "        text-align: right;\n",
       "    }\n",
       "</style>\n",
       "<table border=\"1\" class=\"dataframe\">\n",
       "  <thead>\n",
       "    <tr style=\"text-align: right;\">\n",
       "      <th></th>\n",
       "      <th>protein1</th>\n",
       "      <th>protein2</th>\n",
       "      <th>neighborhood</th>\n",
       "      <th>neighborhood_transferred</th>\n",
       "      <th>fusion</th>\n",
       "      <th>cooccurence</th>\n",
       "      <th>homology</th>\n",
       "      <th>coexpression</th>\n",
       "      <th>coexpression_transferred</th>\n",
       "      <th>experiments</th>\n",
       "      <th>experiments_transferred</th>\n",
       "      <th>database</th>\n",
       "      <th>database_transferred</th>\n",
       "      <th>textmining</th>\n",
       "      <th>textmining_transferred</th>\n",
       "      <th>combined_score</th>\n",
       "    </tr>\n",
       "  </thead>\n",
       "  <tbody>\n",
       "    <tr>\n",
       "      <th>0</th>\n",
       "      <td>9606.ENSP00000000233</td>\n",
       "      <td>9606.ENSP00000272298</td>\n",
       "      <td>0</td>\n",
       "      <td>0</td>\n",
       "      <td>0</td>\n",
       "      <td>332</td>\n",
       "      <td>0</td>\n",
       "      <td>0</td>\n",
       "      <td>62</td>\n",
       "      <td>0</td>\n",
       "      <td>181</td>\n",
       "      <td>0</td>\n",
       "      <td>0</td>\n",
       "      <td>0</td>\n",
       "      <td>125</td>\n",
       "      <td>490</td>\n",
       "    </tr>\n",
       "    <tr>\n",
       "      <th>1</th>\n",
       "      <td>9606.ENSP00000000233</td>\n",
       "      <td>9606.ENSP00000253401</td>\n",
       "      <td>0</td>\n",
       "      <td>0</td>\n",
       "      <td>0</td>\n",
       "      <td>0</td>\n",
       "      <td>0</td>\n",
       "      <td>0</td>\n",
       "      <td>0</td>\n",
       "      <td>0</td>\n",
       "      <td>186</td>\n",
       "      <td>0</td>\n",
       "      <td>0</td>\n",
       "      <td>0</td>\n",
       "      <td>56</td>\n",
       "      <td>198</td>\n",
       "    </tr>\n",
       "    <tr>\n",
       "      <th>2</th>\n",
       "      <td>9606.ENSP00000000233</td>\n",
       "      <td>9606.ENSP00000401445</td>\n",
       "      <td>0</td>\n",
       "      <td>0</td>\n",
       "      <td>0</td>\n",
       "      <td>0</td>\n",
       "      <td>0</td>\n",
       "      <td>0</td>\n",
       "      <td>0</td>\n",
       "      <td>0</td>\n",
       "      <td>160</td>\n",
       "      <td>0</td>\n",
       "      <td>0</td>\n",
       "      <td>0</td>\n",
       "      <td>0</td>\n",
       "      <td>159</td>\n",
       "    </tr>\n",
       "    <tr>\n",
       "      <th>3</th>\n",
       "      <td>9606.ENSP00000000233</td>\n",
       "      <td>9606.ENSP00000418915</td>\n",
       "      <td>0</td>\n",
       "      <td>0</td>\n",
       "      <td>0</td>\n",
       "      <td>0</td>\n",
       "      <td>0</td>\n",
       "      <td>0</td>\n",
       "      <td>61</td>\n",
       "      <td>0</td>\n",
       "      <td>158</td>\n",
       "      <td>0</td>\n",
       "      <td>0</td>\n",
       "      <td>542</td>\n",
       "      <td>0</td>\n",
       "      <td>606</td>\n",
       "    </tr>\n",
       "    <tr>\n",
       "      <th>4</th>\n",
       "      <td>9606.ENSP00000000233</td>\n",
       "      <td>9606.ENSP00000327801</td>\n",
       "      <td>0</td>\n",
       "      <td>0</td>\n",
       "      <td>0</td>\n",
       "      <td>0</td>\n",
       "      <td>0</td>\n",
       "      <td>69</td>\n",
       "      <td>61</td>\n",
       "      <td>0</td>\n",
       "      <td>78</td>\n",
       "      <td>0</td>\n",
       "      <td>0</td>\n",
       "      <td>0</td>\n",
       "      <td>89</td>\n",
       "      <td>167</td>\n",
       "    </tr>\n",
       "  </tbody>\n",
       "</table>\n",
       "</div>"
      ],
      "text/plain": [
       "               protein1              protein2  neighborhood  \\\n",
       "0  9606.ENSP00000000233  9606.ENSP00000272298             0   \n",
       "1  9606.ENSP00000000233  9606.ENSP00000253401             0   \n",
       "2  9606.ENSP00000000233  9606.ENSP00000401445             0   \n",
       "3  9606.ENSP00000000233  9606.ENSP00000418915             0   \n",
       "4  9606.ENSP00000000233  9606.ENSP00000327801             0   \n",
       "\n",
       "   neighborhood_transferred  fusion  cooccurence  homology  coexpression  \\\n",
       "0                         0       0          332         0             0   \n",
       "1                         0       0            0         0             0   \n",
       "2                         0       0            0         0             0   \n",
       "3                         0       0            0         0             0   \n",
       "4                         0       0            0         0            69   \n",
       "\n",
       "   coexpression_transferred  experiments  experiments_transferred  database  \\\n",
       "0                        62            0                      181         0   \n",
       "1                         0            0                      186         0   \n",
       "2                         0            0                      160         0   \n",
       "3                        61            0                      158         0   \n",
       "4                        61            0                       78         0   \n",
       "\n",
       "   database_transferred  textmining  textmining_transferred  combined_score  \n",
       "0                     0           0                     125             490  \n",
       "1                     0           0                      56             198  \n",
       "2                     0           0                       0             159  \n",
       "3                     0         542                       0             606  \n",
       "4                     0           0                      89             167  "
      ]
     },
     "execution_count": 8,
     "metadata": {},
     "output_type": "execute_result"
    }
   ],
   "source": [
    "df_PPI.head()"
   ]
  },
  {
   "cell_type": "code",
   "execution_count": 10,
   "metadata": {},
   "outputs": [
    {
     "data": {
      "text/html": [
       "<div>\n",
       "<style scoped>\n",
       "    .dataframe tbody tr th:only-of-type {\n",
       "        vertical-align: middle;\n",
       "    }\n",
       "\n",
       "    .dataframe tbody tr th {\n",
       "        vertical-align: top;\n",
       "    }\n",
       "\n",
       "    .dataframe thead th {\n",
       "        text-align: right;\n",
       "    }\n",
       "</style>\n",
       "<table border=\"1\" class=\"dataframe\">\n",
       "  <thead>\n",
       "    <tr style=\"text-align: right;\">\n",
       "      <th></th>\n",
       "      <th>protein1</th>\n",
       "      <th>protein2</th>\n",
       "    </tr>\n",
       "  </thead>\n",
       "  <tbody>\n",
       "    <tr>\n",
       "      <th>0</th>\n",
       "      <td>9606.ENSP00000000233</td>\n",
       "      <td>9606.ENSP00000272298</td>\n",
       "    </tr>\n",
       "    <tr>\n",
       "      <th>1</th>\n",
       "      <td>9606.ENSP00000000233</td>\n",
       "      <td>9606.ENSP00000253401</td>\n",
       "    </tr>\n",
       "    <tr>\n",
       "      <th>2</th>\n",
       "      <td>9606.ENSP00000000233</td>\n",
       "      <td>9606.ENSP00000401445</td>\n",
       "    </tr>\n",
       "    <tr>\n",
       "      <th>3</th>\n",
       "      <td>9606.ENSP00000000233</td>\n",
       "      <td>9606.ENSP00000418915</td>\n",
       "    </tr>\n",
       "    <tr>\n",
       "      <th>4</th>\n",
       "      <td>9606.ENSP00000000233</td>\n",
       "      <td>9606.ENSP00000327801</td>\n",
       "    </tr>\n",
       "  </tbody>\n",
       "</table>\n",
       "</div>"
      ],
      "text/plain": [
       "               protein1              protein2\n",
       "0  9606.ENSP00000000233  9606.ENSP00000272298\n",
       "1  9606.ENSP00000000233  9606.ENSP00000253401\n",
       "2  9606.ENSP00000000233  9606.ENSP00000401445\n",
       "3  9606.ENSP00000000233  9606.ENSP00000418915\n",
       "4  9606.ENSP00000000233  9606.ENSP00000327801"
      ]
     },
     "execution_count": 10,
     "metadata": {},
     "output_type": "execute_result"
    }
   ],
   "source": [
    "df_PPI=df_PPI[['protein1', 'protein2']]\n",
    "\n",
    "trainInteracts=df_PPI.reset_index(drop=True)\n",
    "\n",
    "trainInteracts.head()"
   ]
  },
  {
   "cell_type": "markdown",
   "metadata": {},
   "source": [
    "### Load String IDs "
   ]
  },
  {
   "cell_type": "code",
   "execution_count": 12,
   "metadata": {},
   "outputs": [],
   "source": [
    "with open('data/pickles/StringIDs.pickle', \"rb\") as f:    \n",
    "    identifiers=pickle.load(f)\n",
    "\n",
    "\n",
    "numProteins=len(identifiers)\n",
    "\n",
    "proteinIndices={}\n",
    "\n",
    "for i in range(numProteins):\n",
    "    proteinIndices[identifiers[i]]=i\n",
    "    \n"
   ]
  },
  {
   "cell_type": "markdown",
   "metadata": {},
   "source": [
    "# Triplets"
   ]
  },
  {
   "cell_type": "code",
   "execution_count": 13,
   "metadata": {},
   "outputs": [],
   "source": [
    "def generate_triplets():\n",
    "    numInteracts=len(trainInteracts)\n",
    "    anchors=np.empty((numInteracts,), dtype=np.int32)\n",
    "    positives=np.empty((numInteracts,), dtype=np.int32)\n",
    "    negatives=np.empty((numInteracts,), dtype=np.int32)\n",
    "    for i,pid, hid in tqdm(trainInteracts.itertuples()):    \n",
    "        anchorID=proteinIndices[pid]\n",
    "        anchors[i]=anchorID\n",
    "        positives[i]=proteinIndices[hid]\n",
    "        randomNegative=np.random.randint(numProteins)\n",
    "        negatives[i]=randomNegative\n",
    "    return anchors, positives,negatives\n"
   ]
  },
  {
   "cell_type": "markdown",
   "metadata": {},
   "source": [
    "## Triplet Loss"
   ]
  },
  {
   "cell_type": "code",
   "execution_count": 14,
   "metadata": {},
   "outputs": [
    {
     "name": "stderr",
     "output_type": "stream",
     "text": [
      "Using TensorFlow backend.\n"
     ]
    }
   ],
   "source": [
    "from keras.layers import concatenate\n",
    "from keras.layers import *\n",
    "from keras.layers import Concatenate\n",
    "import numpy as np\n",
    "from keras import backend as K\n",
    "from keras.models import Model\n",
    "from keras.layers import Embedding, Flatten, Input, merge\n",
    "from keras.optimizers import Adam"
   ]
  },
  {
   "cell_type": "code",
   "execution_count": 17,
   "metadata": {},
   "outputs": [],
   "source": [
    "def identity_loss(y_true, y_pred):\n",
    "\n",
    "    return K.mean(y_pred - 0 * y_true)\n",
    "\n",
    "def triplet_loss(X):\n",
    "    positive_item_latent, negative_item_latent, user_latent = X\n",
    "    loss = 1.0 - K.sigmoid(\n",
    "    K.sum(user_latent * positive_item_latent, axis=-1, keepdims=True) -\n",
    "    K.sum(user_latent * negative_item_latent, axis=-1, keepdims=True))\n",
    "    return loss"
   ]
  },
  {
   "cell_type": "markdown",
   "metadata": {},
   "source": [
    "# Design the Network"
   ]
  },
  {
   "cell_type": "code",
   "execution_count": 21,
   "metadata": {},
   "outputs": [],
   "source": [
    "def triplet_nework(num_proteins, embedding_dim):\n",
    "\n",
    "    positive_protein_id = Input((1, ), name='positive_protein_id')\n",
    "    negative_protein_id = Input((1, ), name='negative_protein_id')\n",
    "    anchor_protein_id = Input((1, ), name='anchor_protein_id')\n",
    "\n",
    "    # Shared embedding layer for all proteins\n",
    "    shared_embedding_layer = Embedding( num_proteins, embedding_dim, name='embedding', input_length=1)\n",
    "\n",
    "    positive_protein_embedding = Flatten()(shared_embedding_layer(positive_protein_id))\n",
    "    negative_protein_embedding = Flatten()(shared_embedding_layer(negative_protein_id))\n",
    "    anchor_protein_embedding = Flatten()(shared_embedding_layer(anchor_protein_id))\n",
    "    \n",
    "\n",
    "    myloss = Lambda(triplet_loss,output_shape=(1, ))([positive_protein_embedding,negative_protein_embedding, anchor_protein_embedding])\n",
    "\n",
    "    model = Model(\n",
    "        input=[positive_protein_id, negative_protein_id, anchor_protein_id],\n",
    "        output=myloss)\n",
    "    model.compile(loss=identity_loss, optimizer=Adam())\n",
    "\n",
    "    return model"
   ]
  },
  {
   "cell_type": "code",
   "execution_count": 22,
   "metadata": {},
   "outputs": [],
   "source": [
    "embedding_dim = 64"
   ]
  },
  {
   "cell_type": "code",
   "execution_count": 23,
   "metadata": {},
   "outputs": [
    {
     "name": "stdout",
     "output_type": "stream",
     "text": [
      "WARNING:tensorflow:From /home/ubuntuadmin/anaconda37/lib/python3.7/site-packages/keras/optimizers.py:790: The name tf.train.Optimizer is deprecated. Please use tf.compat.v1.train.Optimizer instead.\n",
      "\n",
      "__________________________________________________________________________________________________\n",
      "Layer (type)                    Output Shape         Param #     Connected to                     \n",
      "==================================================================================================\n",
      "positive_protein_id (InputLayer (None, 1)            0                                            \n",
      "__________________________________________________________________________________________________\n",
      "negative_protein_id (InputLayer (None, 1)            0                                            \n",
      "__________________________________________________________________________________________________\n",
      "anchor_protein_id (InputLayer)  (None, 1)            0                                            \n",
      "__________________________________________________________________________________________________\n",
      "embedding (Embedding)           (None, 1, 64)        1252224     positive_protein_id[0][0]        \n",
      "                                                                 negative_protein_id[0][0]        \n",
      "                                                                 anchor_protein_id[0][0]          \n",
      "__________________________________________________________________________________________________\n",
      "flatten_4 (Flatten)             (None, 64)           0           embedding[0][0]                  \n",
      "__________________________________________________________________________________________________\n",
      "flatten_5 (Flatten)             (None, 64)           0           embedding[1][0]                  \n",
      "__________________________________________________________________________________________________\n",
      "flatten_6 (Flatten)             (None, 64)           0           embedding[2][0]                  \n",
      "__________________________________________________________________________________________________\n",
      "lambda_2 (Lambda)               (None, 1)            0           flatten_4[0][0]                  \n",
      "                                                                 flatten_5[0][0]                  \n",
      "                                                                 flatten_6[0][0]                  \n",
      "==================================================================================================\n",
      "Total params: 1,252,224\n",
      "Trainable params: 1,252,224\n",
      "Non-trainable params: 0\n",
      "__________________________________________________________________________________________________\n",
      "None\n"
     ]
    },
    {
     "name": "stderr",
     "output_type": "stream",
     "text": [
      "/home/ubuntuadmin/anaconda37/lib/python3.7/site-packages/ipykernel_launcher.py:19: UserWarning: Update your `Model` call to the Keras 2 API: `Model(inputs=[<tf.Tenso..., outputs=Tensor(\"la...)`\n"
     ]
    }
   ],
   "source": [
    "\n",
    "model = triplet_nework(numProteins, embedding_dim)\n",
    "\n",
    "print(model.summary())"
   ]
  },
  {
   "cell_type": "markdown",
   "metadata": {},
   "source": [
    "## Train the network\n"
   ]
  },
  {
   "cell_type": "code",
   "execution_count": 24,
   "metadata": {},
   "outputs": [],
   "source": [
    "from tqdm import tqdm"
   ]
  },
  {
   "cell_type": "code",
   "execution_count": 25,
   "metadata": {},
   "outputs": [
    {
     "name": "stderr",
     "output_type": "stream",
     "text": [
      "11759454it [01:12, 162044.72it/s]\n"
     ]
    }
   ],
   "source": [
    "aids, pids, nids = generate_triplets()"
   ]
  },
  {
   "cell_type": "code",
   "execution_count": 26,
   "metadata": {},
   "outputs": [],
   "source": [
    "triplets = {\n",
    "    'anchor_protein_id': aids,\n",
    "    'positive_protein_id': pids,\n",
    "    'negative_protein_id': nids\n",
    "}"
   ]
  },
  {
   "cell_type": "code",
   "execution_count": 28,
   "metadata": {
    "scrolled": true
   },
   "outputs": [
    {
     "name": "stdout",
     "output_type": "stream",
     "text": [
      "WARNING:tensorflow:From /home/ubuntuadmin/anaconda37/lib/python3.7/site-packages/keras/backend/tensorflow_backend.py:986: The name tf.assign_add is deprecated. Please use tf.compat.v1.assign_add instead.\n",
      "\n",
      "WARNING:tensorflow:From /home/ubuntuadmin/anaconda37/lib/python3.7/site-packages/keras/backend/tensorflow_backend.py:973: The name tf.assign is deprecated. Please use tf.compat.v1.assign instead.\n",
      "\n"
     ]
    },
    {
     "name": "stderr",
     "output_type": "stream",
     "text": [
      "/home/ubuntuadmin/anaconda37/lib/python3.7/site-packages/ipykernel_launcher.py:6: UserWarning: The `nb_epoch` argument in `fit` has been renamed `epochs`.\n",
      "  \n"
     ]
    },
    {
     "name": "stdout",
     "output_type": "stream",
     "text": [
      "Epoch 1/3\n",
      "11759454/11759454 [==============================] - 126s 11us/step - loss: 0.2485\n",
      "Epoch 2/3\n",
      "11759454/11759454 [==============================] - 126s 11us/step - loss: 0.1678\n",
      "Epoch 3/3\n",
      "11759454/11759454 [==============================] - 126s 11us/step - loss: 0.1486\n"
     ]
    }
   ],
   "source": [
    "history=model.fit(triplets,\n",
    "          np.ones(len(aids)),\n",
    "          batch_size=1024,\n",
    "          nb_epoch=3,\n",
    "          verbose=1,\n",
    "          shuffle=True)\n",
    "\n"
   ]
  },
  {
   "cell_type": "code",
   "execution_count": 30,
   "metadata": {},
   "outputs": [],
   "source": [
    "model.save('Saved_Models/trained_model_to_generate_embeddings.h5')"
   ]
  }
 ],
 "metadata": {
  "kernelspec": {
   "display_name": "Python 3",
   "language": "python",
   "name": "python3"
  },
  "language_info": {
   "codemirror_mode": {
    "name": "ipython",
    "version": 3
   },
   "file_extension": ".py",
   "mimetype": "text/x-python",
   "name": "python",
   "nbconvert_exporter": "python",
   "pygments_lexer": "ipython3",
   "version": "3.7.6"
  }
 },
 "nbformat": 4,
 "nbformat_minor": 1
}
