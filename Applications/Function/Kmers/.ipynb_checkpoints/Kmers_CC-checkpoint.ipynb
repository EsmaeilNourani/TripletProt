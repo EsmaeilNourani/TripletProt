{
 "cells": [
  {
   "cell_type": "code",
   "execution_count": 1,
   "metadata": {},
   "outputs": [],
   "source": [
    "import pandas as pd\n",
    "\n",
    "import numpy as np\n",
    "\n",
    "import pickle"
   ]
  },
  {
   "cell_type": "markdown",
   "metadata": {},
   "source": [
    "# Load Datasets"
   ]
  },
  {
   "cell_type": "code",
   "execution_count": 2,
   "metadata": {},
   "outputs": [],
   "source": [
    "#Reference of the dataset from DeepGO\n",
    "# ! tar -xvzf  CAFA3_training_data/data12G/data/train.tar.gz"
   ]
  },
  {
   "cell_type": "markdown",
   "metadata": {},
   "source": [
    "### Load Cellular Component Terms"
   ]
  },
  {
   "cell_type": "code",
   "execution_count": 3,
   "metadata": {},
   "outputs": [],
   "source": [
    "trainCC_terms=pd.read_pickle('../../../data/DeepGo/train-cc.pkl')\n",
    "\n",
    "trainCC_terms=trainCC_terms[trainCC_terms['orgs']=='9606']\n",
    "\n",
    "testCC_terms=pd.read_pickle('../../../data/DeepGo/test-cc.pkl')\n",
    "\n",
    "testCC_terms=testCC_terms[testCC_terms['orgs']=='9606']\n",
    "\n",
    "trainCC_terms.columns=['uniprot_ac', 'gos', 'labels', 'ngrams', 'proteins', 'sequences','orgs', 'embeddings']\n",
    "\n",
    "testCC_terms.columns=['uniprot_ac', 'gos', 'labels', 'ngrams', 'proteins', 'sequences','orgs', 'embeddings']### Load Cellular Component Terms"
   ]
  },
  {
   "cell_type": "markdown",
   "metadata": {},
   "source": [
    "# load embeddings"
   ]
  },
  {
   "cell_type": "code",
   "execution_count": 13,
   "metadata": {},
   "outputs": [],
   "source": [
    "from numpy import load\n",
    "\n",
    "data = load('../../../data/ProtVec_Kmer_baseline/k_mer_l1_norm.npz')\n",
    "\n",
    "k_mer_l1_norm=data['arr_0']\n",
    "\n",
    "embeddings=k_mer_l1_norm\n",
    "\n",
    "accessions=pd.read_csv('../../../data/ProtVec_Kmer_baseline/accessions.txt',header=None)\n",
    "\n",
    "embedding_size=embeddings.shape[1]\n",
    "trainProtein_weights = np.zeros((trainCC_terms.shape[0], embedding_size))\n",
    "testProtein_weights = np.zeros((testCC_terms.shape[0], embedding_size))\n",
    "\n",
    "for i,prot in enumerate(trainCC_terms['uniprot_ac']):  \n",
    "    trainProtein_weights[i]=embeddings[accessions.loc[accessions[0]==prot].index[0]]\n",
    "\n",
    "for i,prot in enumerate(testCC_terms['uniprot_ac']):  \n",
    "    testProtein_weights[i]=embeddings [accessions.loc[accessions[0]==prot].index[0]]"
   ]
  },
  {
   "cell_type": "markdown",
   "metadata": {},
   "source": [
    "### Prepare Input Data"
   ]
  },
  {
   "cell_type": "code",
   "execution_count": 15,
   "metadata": {},
   "outputs": [
    {
     "data": {
      "text/plain": [
       "Index(['uniprot_ac', 'gos', 'labels', 'ngrams', 'proteins', 'sequences',\n",
       "       'orgs', 'embeddings'],\n",
       "      dtype='object')"
      ]
     },
     "execution_count": 15,
     "metadata": {},
     "output_type": "execute_result"
    }
   ],
   "source": [
    "trainCC_terms.columns"
   ]
  },
  {
   "cell_type": "code",
   "execution_count": 26,
   "metadata": {},
   "outputs": [],
   "source": [
    "Ytrain=trainCC_terms[['labels']]\n",
    "Ytrain=Ytrain.labels.apply(pd.Series)\n",
    "Ytrain=np.array(Ytrain)\n",
    "\n",
    "X_train=trainProtein_weights\n",
    "X_train=np.array(X_train)\n",
    "X_train=np.expand_dims(X_train,axis=-1)\n",
    "\n",
    "Ytest=testCC_terms[['labels']]\n",
    "Ytest=Ytest.labels.apply(pd.Series)\n",
    "Ytest=np.array(Ytest)\n",
    "\n",
    "X_test=testProtein_weights\n",
    "X_test=np.array(X_test)\n",
    "X_test=np.expand_dims(X_test,axis=-1)"
   ]
  },
  {
   "cell_type": "markdown",
   "metadata": {},
   "source": [
    "### Train and Evaluate the model"
   ]
  },
  {
   "cell_type": "code",
   "execution_count": 27,
   "metadata": {},
   "outputs": [],
   "source": [
    "import sys\n",
    "sys.path.append('../../../utils/')\n",
    "\n",
    "from sklearn.model_selection import StratifiedKFold\n",
    "\n",
    "from  model import naive_CNN_classifier\n",
    "\n",
    "import keras\n",
    "\n",
    "from sklearn.metrics import label_ranking_average_precision_score\n",
    "\n",
    "from numpy import arange\n",
    "\n",
    "from sklearn.metrics import f1_score\n"
   ]
  },
  {
   "cell_type": "code",
   "execution_count": 28,
   "metadata": {},
   "outputs": [],
   "source": [
    "random_seed=13"
   ]
  },
  {
   "cell_type": "code",
   "execution_count": 29,
   "metadata": {},
   "outputs": [],
   "source": [
    "num_classes=Ytrain.shape[1]"
   ]
  },
  {
   "cell_type": "code",
   "execution_count": 33,
   "metadata": {},
   "outputs": [],
   "source": [
    "model=None\n",
    "model = naive_CNN_classifier(num_classes,embedding_size)"
   ]
  },
  {
   "cell_type": "code",
   "execution_count": null,
   "metadata": {},
   "outputs": [],
   "source": [
    "history=model.fit(X_train, Ytrain, validation_data=(X_test,Ytest) ,epochs=50, batch_size=16,verbose=0)\n",
    "YtestPredicted_raw=model.predict(X_test)\n",
    "avePrec =label_ranking_average_precision_score(Ytest, YtestPredicted_raw) "
   ]
  },
  {
   "cell_type": "code",
   "execution_count": null,
   "metadata": {},
   "outputs": [],
   "source": [
    "avePrec"
   ]
  },
  {
   "cell_type": "code",
   "execution_count": null,
   "metadata": {},
   "outputs": [],
   "source": [
    "results={'treshold':[],'Average Precision':[],'F1 (micro)':[],'F1 (macro)':[],'Method':[]}"
   ]
  },
  {
   "cell_type": "code",
   "execution_count": null,
   "metadata": {},
   "outputs": [],
   "source": [
    "for treshold in arange(0.05,0.55,0.05):  \n",
    "    YtestPredicted=None\n",
    "    YtestPredicted=YtestPredicted_raw.copy()\n",
    "    results['treshold'].append(treshold)\n",
    "    results['Average Precision'].append(avePrec)\n",
    "    YtestPredicted[YtestPredicted>=treshold]=1\n",
    "    YtestPredicted[YtestPredicted<treshold]=0\n",
    "    results['F1 (micro)'].append  (f1_score(Ytest, YtestPredicted, average='micro'))\n",
    "    results['F1 (macro)'].append  (f1_score(Ytest, YtestPredicted, average='macro'))\n",
    "    results['Method'].append ('Kmers')\n"
   ]
  },
  {
   "cell_type": "code",
   "execution_count": null,
   "metadata": {},
   "outputs": [],
   "source": [
    "df_results=pd.DataFrame(results)"
   ]
  },
  {
   "cell_type": "code",
   "execution_count": null,
   "metadata": {},
   "outputs": [],
   "source": [
    "df_results.head(50)"
   ]
  },
  {
   "cell_type": "code",
   "execution_count": null,
   "metadata": {},
   "outputs": [],
   "source": [
    "df_results.to_csv('../../../data/_Outputs/Final_Kmers_CC.csv',index=False)"
   ]
  },
  {
   "cell_type": "code",
   "execution_count": null,
   "metadata": {},
   "outputs": [],
   "source": []
  }
 ],
 "metadata": {
  "kernelspec": {
   "display_name": "Python 3",
   "language": "python",
   "name": "python3"
  },
  "language_info": {
   "codemirror_mode": {
    "name": "ipython",
    "version": 3
   },
   "file_extension": ".py",
   "mimetype": "text/x-python",
   "name": "python",
   "nbconvert_exporter": "python",
   "pygments_lexer": "ipython3",
   "version": "3.7.6"
  }
 },
 "nbformat": 4,
 "nbformat_minor": 2
}
