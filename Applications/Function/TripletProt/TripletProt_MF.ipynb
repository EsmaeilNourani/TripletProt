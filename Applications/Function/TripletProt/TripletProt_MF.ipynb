{
 "cells": [
  {
   "cell_type": "code",
   "execution_count": 1,
   "metadata": {},
   "outputs": [],
   "source": [
    "import pandas as pd\n",
    "\n",
    "import numpy as np\n",
    "\n",
    "import pickle"
   ]
  },
  {
   "cell_type": "markdown",
   "metadata": {},
   "source": [
    "# Load Datasets"
   ]
  },
  {
   "cell_type": "markdown",
   "metadata": {},
   "source": [
    "### Load Molecular Function Terms"
   ]
  },
  {
   "cell_type": "code",
   "execution_count": 2,
   "metadata": {},
   "outputs": [],
   "source": [
    "trainMF_terms=pd.read_pickle('../../../data/DeepGo/train-mf.pkl')\n",
    "\n",
    "trainMF_terms=trainMF_terms[trainMF_terms['orgs']=='9606']\n",
    "\n",
    "testMF_terms=pd.read_pickle('../../../data/DeepGo/test-mf.pkl')\n",
    "\n",
    "testMF_terms=testMF_terms[testMF_terms['orgs']=='9606']\n",
    "\n",
    "trainMF_terms.columns=['uniprot_ac', 'gos', 'labels', 'ngrams', 'proteins', 'sequences','orgs', 'embeddings']\n",
    "\n",
    "testMF_terms.columns=['uniprot_ac', 'gos', 'labels', 'ngrams', 'proteins', 'sequences','orgs', 'embeddings']"
   ]
  },
  {
   "cell_type": "markdown",
   "metadata": {},
   "source": [
    "# map uniprot to String"
   ]
  },
  {
   "cell_type": "markdown",
   "metadata": {},
   "source": [
    "* STring IDs are required for embedding generation"
   ]
  },
  {
   "cell_type": "code",
   "execution_count": 3,
   "metadata": {},
   "outputs": [],
   "source": [
    "import sys\n",
    "sys.path.append('../../../utils/')"
   ]
  },
  {
   "cell_type": "code",
   "execution_count": 4,
   "metadata": {},
   "outputs": [
    {
     "name": "stderr",
     "output_type": "stream",
     "text": [
      "/home/ubuntuadmin/anaconda37/lib/python3.7/site-packages/tensorflow/python/framework/dtypes.py:516: FutureWarning: Passing (type, 1) or '1type' as a synonym of type is deprecated; in a future version of numpy, it will be understood as (type, (1,)) / '(1,)type'.\n",
      "  _np_qint8 = np.dtype([(\"qint8\", np.int8, 1)])\n",
      "/home/ubuntuadmin/anaconda37/lib/python3.7/site-packages/tensorflow/python/framework/dtypes.py:517: FutureWarning: Passing (type, 1) or '1type' as a synonym of type is deprecated; in a future version of numpy, it will be understood as (type, (1,)) / '(1,)type'.\n",
      "  _np_quint8 = np.dtype([(\"quint8\", np.uint8, 1)])\n",
      "/home/ubuntuadmin/anaconda37/lib/python3.7/site-packages/tensorflow/python/framework/dtypes.py:518: FutureWarning: Passing (type, 1) or '1type' as a synonym of type is deprecated; in a future version of numpy, it will be understood as (type, (1,)) / '(1,)type'.\n",
      "  _np_qint16 = np.dtype([(\"qint16\", np.int16, 1)])\n",
      "/home/ubuntuadmin/anaconda37/lib/python3.7/site-packages/tensorflow/python/framework/dtypes.py:519: FutureWarning: Passing (type, 1) or '1type' as a synonym of type is deprecated; in a future version of numpy, it will be understood as (type, (1,)) / '(1,)type'.\n",
      "  _np_quint16 = np.dtype([(\"quint16\", np.uint16, 1)])\n",
      "/home/ubuntuadmin/anaconda37/lib/python3.7/site-packages/tensorflow/python/framework/dtypes.py:520: FutureWarning: Passing (type, 1) or '1type' as a synonym of type is deprecated; in a future version of numpy, it will be understood as (type, (1,)) / '(1,)type'.\n",
      "  _np_qint32 = np.dtype([(\"qint32\", np.int32, 1)])\n",
      "/home/ubuntuadmin/anaconda37/lib/python3.7/site-packages/tensorflow/python/framework/dtypes.py:525: FutureWarning: Passing (type, 1) or '1type' as a synonym of type is deprecated; in a future version of numpy, it will be understood as (type, (1,)) / '(1,)type'.\n",
      "  np_resource = np.dtype([(\"resource\", np.ubyte, 1)])\n",
      "/home/ubuntuadmin/anaconda37/lib/python3.7/site-packages/tensorboard/compat/tensorflow_stub/dtypes.py:541: FutureWarning: Passing (type, 1) or '1type' as a synonym of type is deprecated; in a future version of numpy, it will be understood as (type, (1,)) / '(1,)type'.\n",
      "  _np_qint8 = np.dtype([(\"qint8\", np.int8, 1)])\n",
      "/home/ubuntuadmin/anaconda37/lib/python3.7/site-packages/tensorboard/compat/tensorflow_stub/dtypes.py:542: FutureWarning: Passing (type, 1) or '1type' as a synonym of type is deprecated; in a future version of numpy, it will be understood as (type, (1,)) / '(1,)type'.\n",
      "  _np_quint8 = np.dtype([(\"quint8\", np.uint8, 1)])\n",
      "/home/ubuntuadmin/anaconda37/lib/python3.7/site-packages/tensorboard/compat/tensorflow_stub/dtypes.py:543: FutureWarning: Passing (type, 1) or '1type' as a synonym of type is deprecated; in a future version of numpy, it will be understood as (type, (1,)) / '(1,)type'.\n",
      "  _np_qint16 = np.dtype([(\"qint16\", np.int16, 1)])\n",
      "/home/ubuntuadmin/anaconda37/lib/python3.7/site-packages/tensorboard/compat/tensorflow_stub/dtypes.py:544: FutureWarning: Passing (type, 1) or '1type' as a synonym of type is deprecated; in a future version of numpy, it will be understood as (type, (1,)) / '(1,)type'.\n",
      "  _np_quint16 = np.dtype([(\"quint16\", np.uint16, 1)])\n",
      "/home/ubuntuadmin/anaconda37/lib/python3.7/site-packages/tensorboard/compat/tensorflow_stub/dtypes.py:545: FutureWarning: Passing (type, 1) or '1type' as a synonym of type is deprecated; in a future version of numpy, it will be understood as (type, (1,)) / '(1,)type'.\n",
      "  _np_qint32 = np.dtype([(\"qint32\", np.int32, 1)])\n",
      "/home/ubuntuadmin/anaconda37/lib/python3.7/site-packages/tensorboard/compat/tensorflow_stub/dtypes.py:550: FutureWarning: Passing (type, 1) or '1type' as a synonym of type is deprecated; in a future version of numpy, it will be understood as (type, (1,)) / '(1,)type'.\n",
      "  np_resource = np.dtype([(\"resource\", np.ubyte, 1)])\n",
      "Using TensorFlow backend.\n"
     ]
    }
   ],
   "source": [
    "from  utils import UniprotID_to_StringId"
   ]
  },
  {
   "cell_type": "markdown",
   "metadata": {},
   "source": [
    "### Convert Train IDs"
   ]
  },
  {
   "cell_type": "code",
   "execution_count": 5,
   "metadata": {},
   "outputs": [
    {
     "name": "stdout",
     "output_type": "stream",
     "text": [
      "Not Matched:  173\n"
     ]
    },
    {
     "name": "stderr",
     "output_type": "stream",
     "text": [
      "/home/ubuntuadmin/anaconda37/lib/python3.7/site-packages/numpy/core/fromnumeric.py:61: FutureWarning: Series.nonzero() is deprecated and will be removed in a future version.Use Series.to_numpy().nonzero() instead\n",
      "  return bound(*args, **kwds)\n"
     ]
    }
   ],
   "source": [
    "dfTrain=UniprotID_to_StringId(trainMF_terms)"
   ]
  },
  {
   "cell_type": "code",
   "execution_count": 6,
   "metadata": {},
   "outputs": [
    {
     "data": {
      "text/html": [
       "<div>\n",
       "<style scoped>\n",
       "    .dataframe tbody tr th:only-of-type {\n",
       "        vertical-align: middle;\n",
       "    }\n",
       "\n",
       "    .dataframe tbody tr th {\n",
       "        vertical-align: top;\n",
       "    }\n",
       "\n",
       "    .dataframe thead th {\n",
       "        text-align: right;\n",
       "    }\n",
       "</style>\n",
       "<table border=\"1\" class=\"dataframe\">\n",
       "  <thead>\n",
       "    <tr style=\"text-align: right;\">\n",
       "      <th></th>\n",
       "      <th>uniprot_ac</th>\n",
       "      <th>gos</th>\n",
       "      <th>labels</th>\n",
       "      <th>ngrams</th>\n",
       "      <th>proteins</th>\n",
       "      <th>sequences</th>\n",
       "      <th>orgs</th>\n",
       "      <th>embeddings</th>\n",
       "      <th>uniprot_ac_uniprot_id</th>\n",
       "      <th>string_id</th>\n",
       "    </tr>\n",
       "  </thead>\n",
       "  <tbody>\n",
       "    <tr>\n",
       "      <th>0</th>\n",
       "      <td>P31946</td>\n",
       "      <td>[GO:0019904, GO:0019899, GO:0043488, GO:000582...</td>\n",
       "      <td>[0, 0, 0, 0, 0, 0, 0, 0, 0, 0, 0, 0, 0, 0, 0, ...</td>\n",
       "      <td>[4331, 6603, 4049, 976, 3504, 6070, 1398, 3954...</td>\n",
       "      <td>1433B_HUMAN</td>\n",
       "      <td>MTMDKSELVQKAKLAEQAERYDDMAAAMKAVTEQGHELSNEERNLL...</td>\n",
       "      <td>9606</td>\n",
       "      <td>[-0.690246, -1.16305, 0.082013, -1.17365, 0.89...</td>\n",
       "      <td>P31946|1433B_HUMAN</td>\n",
       "      <td>9606.ENSP00000361930</td>\n",
       "    </tr>\n",
       "    <tr>\n",
       "      <th>1</th>\n",
       "      <td>P62258</td>\n",
       "      <td>[GO:1901016, GO:0086013, GO:0021762, GO:004698...</td>\n",
       "      <td>[1, 0, 0, 0, 0, 0, 0, 0, 0, 0, 1, 0, 0, 1, 0, ...</td>\n",
       "      <td>[4043, 855, 1084, 5663, 1250, 998, 3960, 7194,...</td>\n",
       "      <td>1433E_HUMAN</td>\n",
       "      <td>MDDREDLVYQAKLAEQAERYDEMVESMKKVAGMDVELTVEERNLLS...</td>\n",
       "      <td>9606</td>\n",
       "      <td>[-0.707461, -0.440626, 0.28608, -1.23422, 0.47...</td>\n",
       "      <td>P62258|1433E_HUMAN</td>\n",
       "      <td>9606.ENSP00000264335</td>\n",
       "    </tr>\n",
       "    <tr>\n",
       "      <th>2</th>\n",
       "      <td>Q04917</td>\n",
       "      <td>[GO:0042921, GO:0006713, GO:0019899, GO:001708...</td>\n",
       "      <td>[0, 0, 0, 0, 0, 0, 0, 0, 0, 0, 0, 0, 0, 0, 0, ...</td>\n",
       "      <td>[4103, 2055, 1084, 5674, 1470, 5390, 3794, 387...</td>\n",
       "      <td>1433F_HUMAN</td>\n",
       "      <td>MGDREQLLQRARLAEQAERYDDMASAMKAVTELNEPLSNEDRNLLS...</td>\n",
       "      <td>9606</td>\n",
       "      <td>[-0.595342, -0.547682, 0.575142, -0.983365, 1....</td>\n",
       "      <td>Q04917|1433F_HUMAN</td>\n",
       "      <td>9606.ENSP00000248975</td>\n",
       "    </tr>\n",
       "    <tr>\n",
       "      <th>3</th>\n",
       "      <td>P61981</td>\n",
       "      <td>[GO:0000086, GO:0045664, GO:0016020, GO:004816...</td>\n",
       "      <td>[0, 0, 0, 0, 0, 0, 0, 0, 0, 0, 0, 0, 0, 0, 0, ...</td>\n",
       "      <td>[4343, 6855, 1084, 5674, 1470, 5398, 3954, 706...</td>\n",
       "      <td>1433G_HUMAN</td>\n",
       "      <td>MVDREQLVQKARLAEQAERYDDMAAAMKNVTELNEPLSNEERNLLS...</td>\n",
       "      <td>9606</td>\n",
       "      <td>[-0.661601, 0.378197, 0.508445, -0.970525, 0.4...</td>\n",
       "      <td>P61981|1433G_HUMAN</td>\n",
       "      <td>9606.ENSP00000306330</td>\n",
       "    </tr>\n",
       "    <tr>\n",
       "      <th>4</th>\n",
       "      <td>P31947</td>\n",
       "      <td>[GO:0001836, GO:0008630, GO:0005829, GO:000716...</td>\n",
       "      <td>[0, 0, 0, 0, 0, 0, 0, 0, 0, 0, 0, 0, 0, 0, 0, ...</td>\n",
       "      <td>[4075, 1481, 5616, 310, 6188, 3754, 3069, 5361...</td>\n",
       "      <td>1433S_HUMAN</td>\n",
       "      <td>MERASLIQKAKLAEQAERYEDMAAFMKGAVEKGEELSCEERNLLSV...</td>\n",
       "      <td>9606</td>\n",
       "      <td>[-0.305037, -0.397102, 0.144294, -0.528591, 0....</td>\n",
       "      <td>P31947|1433S_HUMAN</td>\n",
       "      <td>9606.ENSP00000340989</td>\n",
       "    </tr>\n",
       "  </tbody>\n",
       "</table>\n",
       "</div>"
      ],
      "text/plain": [
       "  uniprot_ac                                                gos  \\\n",
       "0     P31946  [GO:0019904, GO:0019899, GO:0043488, GO:000582...   \n",
       "1     P62258  [GO:1901016, GO:0086013, GO:0021762, GO:004698...   \n",
       "2     Q04917  [GO:0042921, GO:0006713, GO:0019899, GO:001708...   \n",
       "3     P61981  [GO:0000086, GO:0045664, GO:0016020, GO:004816...   \n",
       "4     P31947  [GO:0001836, GO:0008630, GO:0005829, GO:000716...   \n",
       "\n",
       "                                              labels  \\\n",
       "0  [0, 0, 0, 0, 0, 0, 0, 0, 0, 0, 0, 0, 0, 0, 0, ...   \n",
       "1  [1, 0, 0, 0, 0, 0, 0, 0, 0, 0, 1, 0, 0, 1, 0, ...   \n",
       "2  [0, 0, 0, 0, 0, 0, 0, 0, 0, 0, 0, 0, 0, 0, 0, ...   \n",
       "3  [0, 0, 0, 0, 0, 0, 0, 0, 0, 0, 0, 0, 0, 0, 0, ...   \n",
       "4  [0, 0, 0, 0, 0, 0, 0, 0, 0, 0, 0, 0, 0, 0, 0, ...   \n",
       "\n",
       "                                              ngrams     proteins  \\\n",
       "0  [4331, 6603, 4049, 976, 3504, 6070, 1398, 3954...  1433B_HUMAN   \n",
       "1  [4043, 855, 1084, 5663, 1250, 998, 3960, 7194,...  1433E_HUMAN   \n",
       "2  [4103, 2055, 1084, 5674, 1470, 5390, 3794, 387...  1433F_HUMAN   \n",
       "3  [4343, 6855, 1084, 5674, 1470, 5398, 3954, 706...  1433G_HUMAN   \n",
       "4  [4075, 1481, 5616, 310, 6188, 3754, 3069, 5361...  1433S_HUMAN   \n",
       "\n",
       "                                           sequences  orgs  \\\n",
       "0  MTMDKSELVQKAKLAEQAERYDDMAAAMKAVTEQGHELSNEERNLL...  9606   \n",
       "1  MDDREDLVYQAKLAEQAERYDEMVESMKKVAGMDVELTVEERNLLS...  9606   \n",
       "2  MGDREQLLQRARLAEQAERYDDMASAMKAVTELNEPLSNEDRNLLS...  9606   \n",
       "3  MVDREQLVQKARLAEQAERYDDMAAAMKNVTELNEPLSNEERNLLS...  9606   \n",
       "4  MERASLIQKAKLAEQAERYEDMAAFMKGAVEKGEELSCEERNLLSV...  9606   \n",
       "\n",
       "                                          embeddings uniprot_ac_uniprot_id  \\\n",
       "0  [-0.690246, -1.16305, 0.082013, -1.17365, 0.89...    P31946|1433B_HUMAN   \n",
       "1  [-0.707461, -0.440626, 0.28608, -1.23422, 0.47...    P62258|1433E_HUMAN   \n",
       "2  [-0.595342, -0.547682, 0.575142, -0.983365, 1....    Q04917|1433F_HUMAN   \n",
       "3  [-0.661601, 0.378197, 0.508445, -0.970525, 0.4...    P61981|1433G_HUMAN   \n",
       "4  [-0.305037, -0.397102, 0.144294, -0.528591, 0....    P31947|1433S_HUMAN   \n",
       "\n",
       "              string_id  \n",
       "0  9606.ENSP00000361930  \n",
       "1  9606.ENSP00000264335  \n",
       "2  9606.ENSP00000248975  \n",
       "3  9606.ENSP00000306330  \n",
       "4  9606.ENSP00000340989  "
      ]
     },
     "execution_count": 6,
     "metadata": {},
     "output_type": "execute_result"
    }
   ],
   "source": [
    "dfTrain.head()"
   ]
  },
  {
   "cell_type": "markdown",
   "metadata": {},
   "source": [
    "### Convert Test IDs"
   ]
  },
  {
   "cell_type": "code",
   "execution_count": 7,
   "metadata": {},
   "outputs": [
    {
     "name": "stdout",
     "output_type": "stream",
     "text": [
      "Not Matched:  24\n"
     ]
    }
   ],
   "source": [
    "dfTest=UniprotID_to_StringId(testMF_terms)"
   ]
  },
  {
   "cell_type": "markdown",
   "metadata": {},
   "source": [
    "# Load TripletProt Network and generate embeddings"
   ]
  },
  {
   "cell_type": "code",
   "execution_count": 8,
   "metadata": {},
   "outputs": [],
   "source": [
    "from  utils import generate_tripletProt_embeddings"
   ]
  },
  {
   "cell_type": "markdown",
   "metadata": {},
   "source": [
    "### Generate Train Embeddings"
   ]
  },
  {
   "cell_type": "code",
   "execution_count": 9,
   "metadata": {},
   "outputs": [
    {
     "name": "stdout",
     "output_type": "stream",
     "text": [
      "WARNING:tensorflow:From /home/ubuntuadmin/anaconda37/lib/python3.7/site-packages/keras/backend/tensorflow_backend.py:517: The name tf.placeholder is deprecated. Please use tf.compat.v1.placeholder instead.\n",
      "\n",
      "WARNING:tensorflow:From /home/ubuntuadmin/anaconda37/lib/python3.7/site-packages/keras/backend/tensorflow_backend.py:4138: The name tf.random_uniform is deprecated. Please use tf.random.uniform instead.\n",
      "\n",
      "WARNING:tensorflow:From /home/ubuntuadmin/anaconda37/lib/python3.7/site-packages/keras/backend/tensorflow_backend.py:174: The name tf.get_default_session is deprecated. Please use tf.compat.v1.get_default_session instead.\n",
      "\n",
      "WARNING:tensorflow:From /home/ubuntuadmin/anaconda37/lib/python3.7/site-packages/keras/backend/tensorflow_backend.py:181: The name tf.ConfigProto is deprecated. Please use tf.compat.v1.ConfigProto instead.\n",
      "\n",
      "WARNING:tensorflow:From /home/ubuntuadmin/anaconda37/lib/python3.7/site-packages/keras/backend/tensorflow_backend.py:186: The name tf.Session is deprecated. Please use tf.compat.v1.Session instead.\n",
      "\n",
      "WARNING:tensorflow:From /home/ubuntuadmin/anaconda37/lib/python3.7/site-packages/keras/optimizers.py:790: The name tf.train.Optimizer is deprecated. Please use tf.compat.v1.train.Optimizer instead.\n",
      "\n",
      "number of found:  6177\n"
     ]
    }
   ],
   "source": [
    "trainProtein_weights=generate_tripletProt_embeddings(dfTrain)"
   ]
  },
  {
   "cell_type": "code",
   "execution_count": 10,
   "metadata": {},
   "outputs": [
    {
     "data": {
      "text/plain": [
       "(6350, 64)"
      ]
     },
     "execution_count": 10,
     "metadata": {},
     "output_type": "execute_result"
    }
   ],
   "source": [
    "trainProtein_weights.shape"
   ]
  },
  {
   "cell_type": "markdown",
   "metadata": {},
   "source": [
    "#### Generate Test Embeddings"
   ]
  },
  {
   "cell_type": "code",
   "execution_count": 11,
   "metadata": {},
   "outputs": [
    {
     "name": "stdout",
     "output_type": "stream",
     "text": [
      "number of found:  1611\n"
     ]
    }
   ],
   "source": [
    "testProtein_weights=generate_tripletProt_embeddings(dfTest)"
   ]
  },
  {
   "cell_type": "code",
   "execution_count": 12,
   "metadata": {},
   "outputs": [
    {
     "data": {
      "text/plain": [
       "(1635, 64)"
      ]
     },
     "execution_count": 12,
     "metadata": {},
     "output_type": "execute_result"
    }
   ],
   "source": [
    "testProtein_weights.shape"
   ]
  },
  {
   "cell_type": "markdown",
   "metadata": {},
   "source": [
    "#### Prepare Input Data"
   ]
  },
  {
   "cell_type": "code",
   "execution_count": 13,
   "metadata": {},
   "outputs": [],
   "source": [
    "X_train=trainProtein_weights\n",
    "\n",
    "X_train=np.array(X_train)"
   ]
  },
  {
   "cell_type": "code",
   "execution_count": 14,
   "metadata": {},
   "outputs": [
    {
     "data": {
      "text/plain": [
       "(6350, 589)"
      ]
     },
     "execution_count": 14,
     "metadata": {},
     "output_type": "execute_result"
    }
   ],
   "source": [
    "Ytrain=dfTrain[['labels']]\n",
    "\n",
    "Ytrain=Ytrain.labels.apply(pd.Series)\n",
    "\n",
    "Ytrain=np.array(Ytrain)\n",
    "\n",
    "Ytrain.shape"
   ]
  },
  {
   "cell_type": "code",
   "execution_count": 15,
   "metadata": {},
   "outputs": [],
   "source": [
    "X_test=testProtein_weights\n",
    "\n",
    "X_test=np.array(X_test)"
   ]
  },
  {
   "cell_type": "code",
   "execution_count": 16,
   "metadata": {},
   "outputs": [
    {
     "data": {
      "text/plain": [
       "(1635, 589)"
      ]
     },
     "execution_count": 16,
     "metadata": {},
     "output_type": "execute_result"
    }
   ],
   "source": [
    "Ytest=dfTest[['labels']]\n",
    "\n",
    "Ytest=Ytest.labels.apply(pd.Series)\n",
    "\n",
    "Ytest=np.array(Ytest)\n",
    "\n",
    "Ytest.shape"
   ]
  },
  {
   "cell_type": "code",
   "execution_count": 17,
   "metadata": {},
   "outputs": [],
   "source": [
    "num_classes=Ytrain.shape[1]"
   ]
  },
  {
   "cell_type": "markdown",
   "metadata": {},
   "source": [
    "### Train and Evaluate the model"
   ]
  },
  {
   "cell_type": "code",
   "execution_count": 18,
   "metadata": {},
   "outputs": [],
   "source": [
    "from sklearn.model_selection import StratifiedKFold\n",
    "\n",
    "from  model import feedForward_classifier\n",
    "\n",
    "import keras\n",
    "\n",
    "from sklearn.metrics import label_ranking_average_precision_score\n",
    "\n",
    "from numpy import arange\n",
    "\n",
    "from sklearn.metrics import f1_score\n"
   ]
  },
  {
   "cell_type": "code",
   "execution_count": 19,
   "metadata": {},
   "outputs": [],
   "source": [
    "random_seed=1311"
   ]
  },
  {
   "cell_type": "code",
   "execution_count": 27,
   "metadata": {},
   "outputs": [],
   "source": [
    "model=None\n",
    "model = feedForward_classifier(num_classes,64)"
   ]
  },
  {
   "cell_type": "code",
   "execution_count": 28,
   "metadata": {},
   "outputs": [],
   "source": [
    "history=model.fit(X_train, Ytrain,epochs=100, batch_size=32,verbose=0)\n",
    "YtestPredicted_raw=model.predict(X_test)\n",
    "avePrec =label_ranking_average_precision_score(Ytest, YtestPredicted_raw) "
   ]
  },
  {
   "cell_type": "code",
   "execution_count": 22,
   "metadata": {},
   "outputs": [],
   "source": [
    "results={'treshold':[],'Average Precision':[],'F1 (micro)':[],'F1 (macro)':[],'Method':[]}"
   ]
  },
  {
   "cell_type": "code",
   "execution_count": 23,
   "metadata": {},
   "outputs": [
    {
     "name": "stderr",
     "output_type": "stream",
     "text": [
      "/home/ubuntuadmin/anaconda37/lib/python3.7/site-packages/sklearn/metrics/_classification.py:1515: UndefinedMetricWarning: F-score is ill-defined and being set to 0.0 in labels with no true nor predicted samples. Use `zero_division` parameter to control this behavior.\n",
      "  average, \"true nor predicted\", 'F-score is', len(true_sum)\n"
     ]
    }
   ],
   "source": [
    "for treshold in arange(0.05,0.55,0.05):  \n",
    "    YtestPredicted=None\n",
    "    YtestPredicted=YtestPredicted_raw.copy()\n",
    "    results['treshold'].append(treshold)\n",
    "    results['Average Precision'].append(avePrec)\n",
    "    YtestPredicted[YtestPredicted>=treshold]=1\n",
    "    YtestPredicted[YtestPredicted<treshold]=0\n",
    "    results['F1 (micro)'].append  (f1_score(Ytest, YtestPredicted, average='micro'))\n",
    "    results['F1 (macro)'].append  (f1_score(Ytest, YtestPredicted, average='macro'))\n",
    "    results['Method'].append ('TripletProt')\n"
   ]
  },
  {
   "cell_type": "code",
   "execution_count": 24,
   "metadata": {},
   "outputs": [],
   "source": [
    "df_results=pd.DataFrame(results)"
   ]
  },
  {
   "cell_type": "code",
   "execution_count": 25,
   "metadata": {},
   "outputs": [
    {
     "data": {
      "text/html": [
       "<div>\n",
       "<style scoped>\n",
       "    .dataframe tbody tr th:only-of-type {\n",
       "        vertical-align: middle;\n",
       "    }\n",
       "\n",
       "    .dataframe tbody tr th {\n",
       "        vertical-align: top;\n",
       "    }\n",
       "\n",
       "    .dataframe thead th {\n",
       "        text-align: right;\n",
       "    }\n",
       "</style>\n",
       "<table border=\"1\" class=\"dataframe\">\n",
       "  <thead>\n",
       "    <tr style=\"text-align: right;\">\n",
       "      <th></th>\n",
       "      <th>treshold</th>\n",
       "      <th>Average Precision</th>\n",
       "      <th>F1 (micro)</th>\n",
       "      <th>F1 (macro)</th>\n",
       "      <th>Method</th>\n",
       "    </tr>\n",
       "  </thead>\n",
       "  <tbody>\n",
       "    <tr>\n",
       "      <th>0</th>\n",
       "      <td>0.05</td>\n",
       "      <td>0.511922</td>\n",
       "      <td>0.293736</td>\n",
       "      <td>0.137010</td>\n",
       "      <td>TripletProt</td>\n",
       "    </tr>\n",
       "    <tr>\n",
       "      <th>1</th>\n",
       "      <td>0.10</td>\n",
       "      <td>0.511922</td>\n",
       "      <td>0.366927</td>\n",
       "      <td>0.144046</td>\n",
       "      <td>TripletProt</td>\n",
       "    </tr>\n",
       "    <tr>\n",
       "      <th>2</th>\n",
       "      <td>0.15</td>\n",
       "      <td>0.511922</td>\n",
       "      <td>0.408508</td>\n",
       "      <td>0.143202</td>\n",
       "      <td>TripletProt</td>\n",
       "    </tr>\n",
       "    <tr>\n",
       "      <th>3</th>\n",
       "      <td>0.20</td>\n",
       "      <td>0.511922</td>\n",
       "      <td>0.427929</td>\n",
       "      <td>0.133176</td>\n",
       "      <td>TripletProt</td>\n",
       "    </tr>\n",
       "    <tr>\n",
       "      <th>4</th>\n",
       "      <td>0.25</td>\n",
       "      <td>0.511922</td>\n",
       "      <td>0.439070</td>\n",
       "      <td>0.127798</td>\n",
       "      <td>TripletProt</td>\n",
       "    </tr>\n",
       "    <tr>\n",
       "      <th>5</th>\n",
       "      <td>0.30</td>\n",
       "      <td>0.511922</td>\n",
       "      <td>0.441037</td>\n",
       "      <td>0.119353</td>\n",
       "      <td>TripletProt</td>\n",
       "    </tr>\n",
       "    <tr>\n",
       "      <th>6</th>\n",
       "      <td>0.35</td>\n",
       "      <td>0.511922</td>\n",
       "      <td>0.436522</td>\n",
       "      <td>0.111608</td>\n",
       "      <td>TripletProt</td>\n",
       "    </tr>\n",
       "    <tr>\n",
       "      <th>7</th>\n",
       "      <td>0.40</td>\n",
       "      <td>0.511922</td>\n",
       "      <td>0.424731</td>\n",
       "      <td>0.104303</td>\n",
       "      <td>TripletProt</td>\n",
       "    </tr>\n",
       "    <tr>\n",
       "      <th>8</th>\n",
       "      <td>0.45</td>\n",
       "      <td>0.511922</td>\n",
       "      <td>0.410142</td>\n",
       "      <td>0.096694</td>\n",
       "      <td>TripletProt</td>\n",
       "    </tr>\n",
       "    <tr>\n",
       "      <th>9</th>\n",
       "      <td>0.50</td>\n",
       "      <td>0.511922</td>\n",
       "      <td>0.395073</td>\n",
       "      <td>0.089925</td>\n",
       "      <td>TripletProt</td>\n",
       "    </tr>\n",
       "  </tbody>\n",
       "</table>\n",
       "</div>"
      ],
      "text/plain": [
       "   treshold  Average Precision  F1 (micro)  F1 (macro)       Method\n",
       "0      0.05           0.511922    0.293736    0.137010  TripletProt\n",
       "1      0.10           0.511922    0.366927    0.144046  TripletProt\n",
       "2      0.15           0.511922    0.408508    0.143202  TripletProt\n",
       "3      0.20           0.511922    0.427929    0.133176  TripletProt\n",
       "4      0.25           0.511922    0.439070    0.127798  TripletProt\n",
       "5      0.30           0.511922    0.441037    0.119353  TripletProt\n",
       "6      0.35           0.511922    0.436522    0.111608  TripletProt\n",
       "7      0.40           0.511922    0.424731    0.104303  TripletProt\n",
       "8      0.45           0.511922    0.410142    0.096694  TripletProt\n",
       "9      0.50           0.511922    0.395073    0.089925  TripletProt"
      ]
     },
     "execution_count": 25,
     "metadata": {},
     "output_type": "execute_result"
    }
   ],
   "source": [
    "df_results.head(50)"
   ]
  },
  {
   "cell_type": "code",
   "execution_count": 26,
   "metadata": {},
   "outputs": [],
   "source": [
    "df_results.to_csv('../../../data/_Outputs/Final_TripletProt_MF.csv',index=False)"
   ]
  },
  {
   "cell_type": "code",
   "execution_count": null,
   "metadata": {},
   "outputs": [],
   "source": []
  },
  {
   "cell_type": "code",
   "execution_count": null,
   "metadata": {},
   "outputs": [],
   "source": []
  }
 ],
 "metadata": {
  "kernelspec": {
   "display_name": "Python 3",
   "language": "python",
   "name": "python3"
  },
  "language_info": {
   "codemirror_mode": {
    "name": "ipython",
    "version": 3
   },
   "file_extension": ".py",
   "mimetype": "text/x-python",
   "name": "python",
   "nbconvert_exporter": "python",
   "pygments_lexer": "ipython3",
   "version": "3.7.6"
  }
 },
 "nbformat": 4,
 "nbformat_minor": 2
}
