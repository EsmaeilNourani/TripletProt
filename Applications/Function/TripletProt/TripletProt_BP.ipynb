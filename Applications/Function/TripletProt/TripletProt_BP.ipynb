{
 "cells": [
  {
   "cell_type": "code",
   "execution_count": 2,
   "metadata": {},
   "outputs": [],
   "source": [
    "import pandas as pd\n",
    "\n",
    "import numpy as np\n",
    "\n",
    "import pickle"
   ]
  },
  {
   "cell_type": "markdown",
   "metadata": {},
   "source": [
    "# Load Datasets"
   ]
  },
  {
   "cell_type": "markdown",
   "metadata": {},
   "source": [
    "### Load Biological Process Terms"
   ]
  },
  {
   "cell_type": "code",
   "execution_count": 3,
   "metadata": {},
   "outputs": [],
   "source": [
    "trainBP_terms=pd.read_pickle('../../../data/DeepGo/train-bp.pkl')\n",
    "\n",
    "trainBP_terms=trainBP_terms[trainBP_terms['orgs']=='9606']\n",
    "\n",
    "testBP_terms=pd.read_pickle('../../../data/DeepGo/test-bp.pkl')\n",
    "\n",
    "testBP_terms=testBP_terms[testBP_terms['orgs']=='9606']\n",
    "\n",
    "trainBP_terms.columns=['uniprot_ac', 'gos', 'labels', 'ngrams', 'proteins', 'sequences','orgs', 'embeddings']\n",
    "\n",
    "testBP_terms.columns=['uniprot_ac', 'gos', 'labels', 'ngrams', 'proteins', 'sequences','orgs', 'embeddings']"
   ]
  },
  {
   "cell_type": "markdown",
   "metadata": {},
   "source": [
    "# map uniprot to String"
   ]
  },
  {
   "cell_type": "markdown",
   "metadata": {},
   "source": [
    "* STring IDs are required for embedding generation"
   ]
  },
  {
   "cell_type": "code",
   "execution_count": 4,
   "metadata": {},
   "outputs": [],
   "source": [
    "import sys\n",
    "sys.path.append('../../../utils/')"
   ]
  },
  {
   "cell_type": "code",
   "execution_count": 6,
   "metadata": {},
   "outputs": [],
   "source": [
    "from  utils import UniprotID_to_StringId"
   ]
  },
  {
   "cell_type": "markdown",
   "metadata": {},
   "source": [
    "### Convert Train IDs"
   ]
  },
  {
   "cell_type": "code",
   "execution_count": 7,
   "metadata": {},
   "outputs": [
    {
     "name": "stdout",
     "output_type": "stream",
     "text": [
      "Not Matched:  286\n"
     ]
    },
    {
     "name": "stderr",
     "output_type": "stream",
     "text": [
      "/home/ubuntuadmin/anaconda37/lib/python3.7/site-packages/numpy/core/fromnumeric.py:61: FutureWarning: Series.nonzero() is deprecated and will be removed in a future version.Use Series.to_numpy().nonzero() instead\n",
      "  return bound(*args, **kwds)\n"
     ]
    }
   ],
   "source": [
    "dfTrain=UniprotID_to_StringId(trainBP_terms)"
   ]
  },
  {
   "cell_type": "code",
   "execution_count": 8,
   "metadata": {},
   "outputs": [
    {
     "data": {
      "text/html": [
       "<div>\n",
       "<style scoped>\n",
       "    .dataframe tbody tr th:only-of-type {\n",
       "        vertical-align: middle;\n",
       "    }\n",
       "\n",
       "    .dataframe tbody tr th {\n",
       "        vertical-align: top;\n",
       "    }\n",
       "\n",
       "    .dataframe thead th {\n",
       "        text-align: right;\n",
       "    }\n",
       "</style>\n",
       "<table border=\"1\" class=\"dataframe\">\n",
       "  <thead>\n",
       "    <tr style=\"text-align: right;\">\n",
       "      <th></th>\n",
       "      <th>uniprot_ac</th>\n",
       "      <th>gos</th>\n",
       "      <th>labels</th>\n",
       "      <th>ngrams</th>\n",
       "      <th>proteins</th>\n",
       "      <th>sequences</th>\n",
       "      <th>orgs</th>\n",
       "      <th>embeddings</th>\n",
       "      <th>uniprot_ac_uniprot_id</th>\n",
       "      <th>string_id</th>\n",
       "    </tr>\n",
       "  </thead>\n",
       "  <tbody>\n",
       "    <tr>\n",
       "      <th>0</th>\n",
       "      <td>P31946</td>\n",
       "      <td>[GO:0019904, GO:0019899, GO:0043488, GO:000582...</td>\n",
       "      <td>[0, 0, 0, 0, 0, 0, 0, 0, 0, 0, 0, 0, 0, 0, 0, ...</td>\n",
       "      <td>[4331, 6603, 4049, 976, 3504, 6070, 1398, 3954...</td>\n",
       "      <td>1433B_HUMAN</td>\n",
       "      <td>MTMDKSELVQKAKLAEQAERYDDMAAAMKAVTEQGHELSNEERNLL...</td>\n",
       "      <td>9606</td>\n",
       "      <td>[-0.690246, -1.16305, 0.082013, -1.17365, 0.89...</td>\n",
       "      <td>P31946|1433B_HUMAN</td>\n",
       "      <td>9606.ENSP00000361930</td>\n",
       "    </tr>\n",
       "    <tr>\n",
       "      <th>1</th>\n",
       "      <td>P62258</td>\n",
       "      <td>[GO:1901016, GO:0086013, GO:0021762, GO:004698...</td>\n",
       "      <td>[0, 0, 0, 0, 0, 0, 0, 0, 0, 1, 1, 0, 0, 0, 0, ...</td>\n",
       "      <td>[4043, 855, 1084, 5663, 1250, 998, 3960, 7194,...</td>\n",
       "      <td>1433E_HUMAN</td>\n",
       "      <td>MDDREDLVYQAKLAEQAERYDEMVESMKKVAGMDVELTVEERNLLS...</td>\n",
       "      <td>9606</td>\n",
       "      <td>[-0.707461, -0.440626, 0.28608, -1.23422, 0.47...</td>\n",
       "      <td>P62258|1433E_HUMAN</td>\n",
       "      <td>9606.ENSP00000264335</td>\n",
       "    </tr>\n",
       "    <tr>\n",
       "      <th>2</th>\n",
       "      <td>Q04917</td>\n",
       "      <td>[GO:0042921, GO:0006713, GO:0019899, GO:001708...</td>\n",
       "      <td>[0, 0, 0, 0, 0, 0, 0, 0, 0, 0, 0, 0, 0, 0, 0, ...</td>\n",
       "      <td>[4103, 2055, 1084, 5674, 1470, 5390, 3794, 387...</td>\n",
       "      <td>1433F_HUMAN</td>\n",
       "      <td>MGDREQLLQRARLAEQAERYDDMASAMKAVTELNEPLSNEDRNLLS...</td>\n",
       "      <td>9606</td>\n",
       "      <td>[-0.595342, -0.547682, 0.575142, -0.983365, 1....</td>\n",
       "      <td>Q04917|1433F_HUMAN</td>\n",
       "      <td>9606.ENSP00000248975</td>\n",
       "    </tr>\n",
       "    <tr>\n",
       "      <th>3</th>\n",
       "      <td>P61981</td>\n",
       "      <td>[GO:0000086, GO:0045664, GO:0016020, GO:004816...</td>\n",
       "      <td>[0, 0, 0, 0, 0, 0, 0, 0, 0, 0, 0, 0, 0, 0, 0, ...</td>\n",
       "      <td>[4343, 6855, 1084, 5674, 1470, 5398, 3954, 706...</td>\n",
       "      <td>1433G_HUMAN</td>\n",
       "      <td>MVDREQLVQKARLAEQAERYDDMAAAMKNVTELNEPLSNEERNLLS...</td>\n",
       "      <td>9606</td>\n",
       "      <td>[-0.661601, 0.378197, 0.508445, -0.970525, 0.4...</td>\n",
       "      <td>P61981|1433G_HUMAN</td>\n",
       "      <td>9606.ENSP00000306330</td>\n",
       "    </tr>\n",
       "    <tr>\n",
       "      <th>4</th>\n",
       "      <td>P31947</td>\n",
       "      <td>[GO:0001836, GO:0008630, GO:0005829, GO:000716...</td>\n",
       "      <td>[0, 0, 0, 0, 0, 0, 0, 0, 0, 0, 0, 0, 0, 0, 0, ...</td>\n",
       "      <td>[4075, 1481, 5616, 310, 6188, 3754, 3069, 5361...</td>\n",
       "      <td>1433S_HUMAN</td>\n",
       "      <td>MERASLIQKAKLAEQAERYEDMAAFMKGAVEKGEELSCEERNLLSV...</td>\n",
       "      <td>9606</td>\n",
       "      <td>[-0.305037, -0.397102, 0.144294, -0.528591, 0....</td>\n",
       "      <td>P31947|1433S_HUMAN</td>\n",
       "      <td>9606.ENSP00000340989</td>\n",
       "    </tr>\n",
       "  </tbody>\n",
       "</table>\n",
       "</div>"
      ],
      "text/plain": [
       "  uniprot_ac                                                gos  \\\n",
       "0     P31946  [GO:0019904, GO:0019899, GO:0043488, GO:000582...   \n",
       "1     P62258  [GO:1901016, GO:0086013, GO:0021762, GO:004698...   \n",
       "2     Q04917  [GO:0042921, GO:0006713, GO:0019899, GO:001708...   \n",
       "3     P61981  [GO:0000086, GO:0045664, GO:0016020, GO:004816...   \n",
       "4     P31947  [GO:0001836, GO:0008630, GO:0005829, GO:000716...   \n",
       "\n",
       "                                              labels  \\\n",
       "0  [0, 0, 0, 0, 0, 0, 0, 0, 0, 0, 0, 0, 0, 0, 0, ...   \n",
       "1  [0, 0, 0, 0, 0, 0, 0, 0, 0, 1, 1, 0, 0, 0, 0, ...   \n",
       "2  [0, 0, 0, 0, 0, 0, 0, 0, 0, 0, 0, 0, 0, 0, 0, ...   \n",
       "3  [0, 0, 0, 0, 0, 0, 0, 0, 0, 0, 0, 0, 0, 0, 0, ...   \n",
       "4  [0, 0, 0, 0, 0, 0, 0, 0, 0, 0, 0, 0, 0, 0, 0, ...   \n",
       "\n",
       "                                              ngrams     proteins  \\\n",
       "0  [4331, 6603, 4049, 976, 3504, 6070, 1398, 3954...  1433B_HUMAN   \n",
       "1  [4043, 855, 1084, 5663, 1250, 998, 3960, 7194,...  1433E_HUMAN   \n",
       "2  [4103, 2055, 1084, 5674, 1470, 5390, 3794, 387...  1433F_HUMAN   \n",
       "3  [4343, 6855, 1084, 5674, 1470, 5398, 3954, 706...  1433G_HUMAN   \n",
       "4  [4075, 1481, 5616, 310, 6188, 3754, 3069, 5361...  1433S_HUMAN   \n",
       "\n",
       "                                           sequences  orgs  \\\n",
       "0  MTMDKSELVQKAKLAEQAERYDDMAAAMKAVTEQGHELSNEERNLL...  9606   \n",
       "1  MDDREDLVYQAKLAEQAERYDEMVESMKKVAGMDVELTVEERNLLS...  9606   \n",
       "2  MGDREQLLQRARLAEQAERYDDMASAMKAVTELNEPLSNEDRNLLS...  9606   \n",
       "3  MVDREQLVQKARLAEQAERYDDMAAAMKNVTELNEPLSNEERNLLS...  9606   \n",
       "4  MERASLIQKAKLAEQAERYEDMAAFMKGAVEKGEELSCEERNLLSV...  9606   \n",
       "\n",
       "                                          embeddings uniprot_ac_uniprot_id  \\\n",
       "0  [-0.690246, -1.16305, 0.082013, -1.17365, 0.89...    P31946|1433B_HUMAN   \n",
       "1  [-0.707461, -0.440626, 0.28608, -1.23422, 0.47...    P62258|1433E_HUMAN   \n",
       "2  [-0.595342, -0.547682, 0.575142, -0.983365, 1....    Q04917|1433F_HUMAN   \n",
       "3  [-0.661601, 0.378197, 0.508445, -0.970525, 0.4...    P61981|1433G_HUMAN   \n",
       "4  [-0.305037, -0.397102, 0.144294, -0.528591, 0....    P31947|1433S_HUMAN   \n",
       "\n",
       "              string_id  \n",
       "0  9606.ENSP00000361930  \n",
       "1  9606.ENSP00000264335  \n",
       "2  9606.ENSP00000248975  \n",
       "3  9606.ENSP00000306330  \n",
       "4  9606.ENSP00000340989  "
      ]
     },
     "execution_count": 8,
     "metadata": {},
     "output_type": "execute_result"
    }
   ],
   "source": [
    "dfTrain.head()"
   ]
  },
  {
   "cell_type": "markdown",
   "metadata": {},
   "source": [
    "### Convert Test IDs"
   ]
  },
  {
   "cell_type": "code",
   "execution_count": 9,
   "metadata": {},
   "outputs": [
    {
     "name": "stdout",
     "output_type": "stream",
     "text": [
      "Not Matched:  46\n"
     ]
    }
   ],
   "source": [
    "dfTest=UniprotID_to_StringId(testBP_terms)"
   ]
  },
  {
   "cell_type": "markdown",
   "metadata": {},
   "source": [
    "# Load TripletProt Network and generate embeddings"
   ]
  },
  {
   "cell_type": "code",
   "execution_count": 10,
   "metadata": {},
   "outputs": [],
   "source": [
    "from  utils import generate_tripletProt_embeddings"
   ]
  },
  {
   "cell_type": "markdown",
   "metadata": {},
   "source": [
    "### Generate Train Embeddings"
   ]
  },
  {
   "cell_type": "code",
   "execution_count": 11,
   "metadata": {},
   "outputs": [
    {
     "name": "stdout",
     "output_type": "stream",
     "text": [
      "WARNING:tensorflow:From /home/ubuntuadmin/anaconda37/lib/python3.7/site-packages/keras/backend/tensorflow_backend.py:517: The name tf.placeholder is deprecated. Please use tf.compat.v1.placeholder instead.\n",
      "\n",
      "WARNING:tensorflow:From /home/ubuntuadmin/anaconda37/lib/python3.7/site-packages/keras/backend/tensorflow_backend.py:4138: The name tf.random_uniform is deprecated. Please use tf.random.uniform instead.\n",
      "\n",
      "WARNING:tensorflow:From /home/ubuntuadmin/anaconda37/lib/python3.7/site-packages/keras/backend/tensorflow_backend.py:174: The name tf.get_default_session is deprecated. Please use tf.compat.v1.get_default_session instead.\n",
      "\n",
      "WARNING:tensorflow:From /home/ubuntuadmin/anaconda37/lib/python3.7/site-packages/keras/backend/tensorflow_backend.py:181: The name tf.ConfigProto is deprecated. Please use tf.compat.v1.ConfigProto instead.\n",
      "\n",
      "WARNING:tensorflow:From /home/ubuntuadmin/anaconda37/lib/python3.7/site-packages/keras/backend/tensorflow_backend.py:186: The name tf.Session is deprecated. Please use tf.compat.v1.Session instead.\n",
      "\n",
      "WARNING:tensorflow:From /home/ubuntuadmin/anaconda37/lib/python3.7/site-packages/keras/optimizers.py:790: The name tf.train.Optimizer is deprecated. Please use tf.compat.v1.train.Optimizer instead.\n",
      "\n",
      "number of found:  7486\n"
     ]
    }
   ],
   "source": [
    "trainProtein_weights=generate_tripletProt_embeddings(dfTrain)"
   ]
  },
  {
   "cell_type": "code",
   "execution_count": 12,
   "metadata": {},
   "outputs": [
    {
     "data": {
      "text/plain": [
       "(7772, 64)"
      ]
     },
     "execution_count": 12,
     "metadata": {},
     "output_type": "execute_result"
    }
   ],
   "source": [
    "trainProtein_weights.shape"
   ]
  },
  {
   "cell_type": "markdown",
   "metadata": {},
   "source": [
    "#### Generate Test Embeddings"
   ]
  },
  {
   "cell_type": "code",
   "execution_count": 13,
   "metadata": {},
   "outputs": [
    {
     "name": "stdout",
     "output_type": "stream",
     "text": [
      "number of found:  1921\n"
     ]
    }
   ],
   "source": [
    "testProtein_weights=generate_tripletProt_embeddings(dfTest)"
   ]
  },
  {
   "cell_type": "code",
   "execution_count": 14,
   "metadata": {},
   "outputs": [
    {
     "data": {
      "text/plain": [
       "(1967, 64)"
      ]
     },
     "execution_count": 14,
     "metadata": {},
     "output_type": "execute_result"
    }
   ],
   "source": [
    "testProtein_weights.shape"
   ]
  },
  {
   "cell_type": "markdown",
   "metadata": {},
   "source": [
    "#### Prepare Input Data"
   ]
  },
  {
   "cell_type": "code",
   "execution_count": 15,
   "metadata": {},
   "outputs": [],
   "source": [
    "X_train=trainProtein_weights\n",
    "\n",
    "X_train=np.array(X_train)"
   ]
  },
  {
   "cell_type": "code",
   "execution_count": 16,
   "metadata": {},
   "outputs": [
    {
     "data": {
      "text/plain": [
       "(7772, 932)"
      ]
     },
     "execution_count": 16,
     "metadata": {},
     "output_type": "execute_result"
    }
   ],
   "source": [
    "Ytrain=dfTrain[['labels']]\n",
    "\n",
    "Ytrain=Ytrain.labels.apply(pd.Series)\n",
    "\n",
    "Ytrain=np.array(Ytrain)\n",
    "\n",
    "Ytrain.shape"
   ]
  },
  {
   "cell_type": "code",
   "execution_count": 17,
   "metadata": {},
   "outputs": [],
   "source": [
    "X_test=testProtein_weights\n",
    "\n",
    "X_test=np.array(X_test)"
   ]
  },
  {
   "cell_type": "code",
   "execution_count": 18,
   "metadata": {},
   "outputs": [
    {
     "data": {
      "text/plain": [
       "(1967, 932)"
      ]
     },
     "execution_count": 18,
     "metadata": {},
     "output_type": "execute_result"
    }
   ],
   "source": [
    "Ytest=dfTest[['labels']]\n",
    "\n",
    "Ytest=Ytest.labels.apply(pd.Series)\n",
    "\n",
    "Ytest=np.array(Ytest)\n",
    "\n",
    "Ytest.shape"
   ]
  },
  {
   "cell_type": "code",
   "execution_count": 19,
   "metadata": {},
   "outputs": [],
   "source": [
    "num_classes=Ytrain.shape[1]"
   ]
  },
  {
   "cell_type": "markdown",
   "metadata": {},
   "source": [
    "### Train and Evaluate the model"
   ]
  },
  {
   "cell_type": "code",
   "execution_count": 21,
   "metadata": {},
   "outputs": [],
   "source": [
    "from sklearn.model_selection import StratifiedKFold\n",
    "\n",
    "from  model import feedForward_classifier\n",
    "\n",
    "import keras\n",
    "\n",
    "from sklearn.metrics import label_ranking_average_precision_score\n",
    "\n",
    "from numpy import arange\n",
    "\n",
    "from sklearn.metrics import f1_score\n"
   ]
  },
  {
   "cell_type": "code",
   "execution_count": 22,
   "metadata": {},
   "outputs": [],
   "source": [
    "random_seed=13"
   ]
  },
  {
   "cell_type": "code",
   "execution_count": 25,
   "metadata": {},
   "outputs": [],
   "source": [
    "model=None\n",
    "embedding_size=64\n",
    "model = feedForward_classifier(num_classes,embedding_size)"
   ]
  },
  {
   "cell_type": "code",
   "execution_count": 26,
   "metadata": {},
   "outputs": [
    {
     "name": "stdout",
     "output_type": "stream",
     "text": [
      "WARNING:tensorflow:From /home/ubuntuadmin/anaconda37/lib/python3.7/site-packages/tensorflow/python/ops/nn_impl.py:180: add_dispatch_support.<locals>.wrapper (from tensorflow.python.ops.array_ops) is deprecated and will be removed in a future version.\n",
      "Instructions for updating:\n",
      "Use tf.where in 2.0, which has the same broadcast rule as np.where\n",
      "Epoch 1/100\n",
      "7772/7772 [==============================] - 1s 81us/step - loss: 0.2340\n",
      "Epoch 2/100\n",
      "7772/7772 [==============================] - 0s 44us/step - loss: 0.1326\n",
      "Epoch 3/100\n",
      "7772/7772 [==============================] - 0s 44us/step - loss: 0.1217\n",
      "Epoch 4/100\n",
      "7772/7772 [==============================] - 0s 44us/step - loss: 0.1165\n",
      "Epoch 5/100\n",
      "7772/7772 [==============================] - 0s 44us/step - loss: 0.1133\n",
      "Epoch 6/100\n",
      "7772/7772 [==============================] - 0s 44us/step - loss: 0.1112\n",
      "Epoch 7/100\n",
      "7772/7772 [==============================] - 0s 44us/step - loss: 0.1095\n",
      "Epoch 8/100\n",
      "7772/7772 [==============================] - 0s 44us/step - loss: 0.1083\n",
      "Epoch 9/100\n",
      "7772/7772 [==============================] - 0s 44us/step - loss: 0.1073\n",
      "Epoch 10/100\n",
      "7772/7772 [==============================] - 0s 44us/step - loss: 0.1064\n",
      "Epoch 11/100\n",
      "7772/7772 [==============================] - 0s 44us/step - loss: 0.1057\n",
      "Epoch 12/100\n",
      "7772/7772 [==============================] - 0s 44us/step - loss: 0.1051\n",
      "Epoch 13/100\n",
      "7772/7772 [==============================] - 0s 44us/step - loss: 0.1046\n",
      "Epoch 14/100\n",
      "7772/7772 [==============================] - 0s 44us/step - loss: 0.1041\n",
      "Epoch 15/100\n",
      "7772/7772 [==============================] - 0s 44us/step - loss: 0.1036\n",
      "Epoch 16/100\n",
      "7772/7772 [==============================] - 0s 44us/step - loss: 0.1032\n",
      "Epoch 17/100\n",
      "7772/7772 [==============================] - 0s 44us/step - loss: 0.1028\n",
      "Epoch 18/100\n",
      "7772/7772 [==============================] - 0s 44us/step - loss: 0.1024\n",
      "Epoch 19/100\n",
      "7772/7772 [==============================] - 0s 44us/step - loss: 0.1021\n",
      "Epoch 20/100\n",
      "7772/7772 [==============================] - 0s 44us/step - loss: 0.1018\n",
      "Epoch 21/100\n",
      "7772/7772 [==============================] - 0s 44us/step - loss: 0.1015\n",
      "Epoch 22/100\n",
      "7772/7772 [==============================] - 0s 44us/step - loss: 0.1012\n",
      "Epoch 23/100\n",
      "7772/7772 [==============================] - 0s 44us/step - loss: 0.1010\n",
      "Epoch 24/100\n",
      "7772/7772 [==============================] - 0s 44us/step - loss: 0.1007\n",
      "Epoch 25/100\n",
      "7772/7772 [==============================] - 0s 44us/step - loss: 0.1004\n",
      "Epoch 26/100\n",
      "7772/7772 [==============================] - 0s 44us/step - loss: 0.1002\n",
      "Epoch 27/100\n",
      "7772/7772 [==============================] - 0s 44us/step - loss: 0.1000\n",
      "Epoch 28/100\n",
      "7772/7772 [==============================] - 0s 44us/step - loss: 0.0999\n",
      "Epoch 29/100\n",
      "7772/7772 [==============================] - 0s 44us/step - loss: 0.0996\n",
      "Epoch 30/100\n",
      "7772/7772 [==============================] - 0s 44us/step - loss: 0.0995\n",
      "Epoch 31/100\n",
      "7772/7772 [==============================] - 0s 44us/step - loss: 0.0993\n",
      "Epoch 32/100\n",
      "7772/7772 [==============================] - 0s 44us/step - loss: 0.0991\n",
      "Epoch 33/100\n",
      "7772/7772 [==============================] - 0s 44us/step - loss: 0.0989\n",
      "Epoch 34/100\n",
      "7772/7772 [==============================] - 0s 44us/step - loss: 0.0988\n",
      "Epoch 35/100\n",
      "7772/7772 [==============================] - 0s 44us/step - loss: 0.0986\n",
      "Epoch 36/100\n",
      "7772/7772 [==============================] - 0s 44us/step - loss: 0.0985\n",
      "Epoch 37/100\n",
      "7772/7772 [==============================] - 0s 44us/step - loss: 0.0983\n",
      "Epoch 38/100\n",
      "7772/7772 [==============================] - 0s 44us/step - loss: 0.0981\n",
      "Epoch 39/100\n",
      "7772/7772 [==============================] - 0s 44us/step - loss: 0.0980\n",
      "Epoch 40/100\n",
      "7772/7772 [==============================] - 0s 44us/step - loss: 0.0979\n",
      "Epoch 41/100\n",
      "7772/7772 [==============================] - 0s 44us/step - loss: 0.0978\n",
      "Epoch 42/100\n",
      "7772/7772 [==============================] - 0s 44us/step - loss: 0.0976\n",
      "Epoch 43/100\n",
      "7772/7772 [==============================] - 0s 44us/step - loss: 0.0976\n",
      "Epoch 44/100\n",
      "7772/7772 [==============================] - 0s 44us/step - loss: 0.0974\n",
      "Epoch 45/100\n",
      "7772/7772 [==============================] - 0s 44us/step - loss: 0.0973\n",
      "Epoch 46/100\n",
      "7772/7772 [==============================] - 0s 44us/step - loss: 0.0972\n",
      "Epoch 47/100\n",
      "7772/7772 [==============================] - 0s 44us/step - loss: 0.0970\n",
      "Epoch 48/100\n",
      "7772/7772 [==============================] - 0s 44us/step - loss: 0.0969\n",
      "Epoch 49/100\n",
      "7772/7772 [==============================] - 0s 44us/step - loss: 0.0969\n",
      "Epoch 50/100\n",
      "7772/7772 [==============================] - 0s 44us/step - loss: 0.0968\n",
      "Epoch 51/100\n",
      "7772/7772 [==============================] - 0s 44us/step - loss: 0.0966\n",
      "Epoch 52/100\n",
      "7772/7772 [==============================] - 0s 44us/step - loss: 0.0966\n",
      "Epoch 53/100\n",
      "7772/7772 [==============================] - 0s 44us/step - loss: 0.0965\n",
      "Epoch 54/100\n",
      "7772/7772 [==============================] - 0s 44us/step - loss: 0.0963\n",
      "Epoch 55/100\n",
      "7772/7772 [==============================] - 0s 44us/step - loss: 0.0963\n",
      "Epoch 56/100\n",
      "7772/7772 [==============================] - 0s 44us/step - loss: 0.0962\n",
      "Epoch 57/100\n",
      "7772/7772 [==============================] - 0s 44us/step - loss: 0.0961\n",
      "Epoch 58/100\n",
      "7772/7772 [==============================] - 0s 44us/step - loss: 0.0961\n",
      "Epoch 59/100\n",
      "7772/7772 [==============================] - 0s 44us/step - loss: 0.0960\n",
      "Epoch 60/100\n",
      "7772/7772 [==============================] - 0s 44us/step - loss: 0.0959\n",
      "Epoch 61/100\n",
      "7772/7772 [==============================] - 0s 44us/step - loss: 0.0958\n",
      "Epoch 62/100\n",
      "7772/7772 [==============================] - 0s 44us/step - loss: 0.0957\n",
      "Epoch 63/100\n",
      "7772/7772 [==============================] - 0s 44us/step - loss: 0.0957\n",
      "Epoch 64/100\n",
      "7772/7772 [==============================] - 0s 44us/step - loss: 0.0956\n",
      "Epoch 65/100\n",
      "7772/7772 [==============================] - 0s 44us/step - loss: 0.0955\n",
      "Epoch 66/100\n",
      "7772/7772 [==============================] - 0s 44us/step - loss: 0.0954\n",
      "Epoch 67/100\n",
      "7772/7772 [==============================] - 0s 44us/step - loss: 0.0954\n",
      "Epoch 68/100\n",
      "7772/7772 [==============================] - 0s 44us/step - loss: 0.0953\n",
      "Epoch 69/100\n",
      "7772/7772 [==============================] - 0s 44us/step - loss: 0.0952\n",
      "Epoch 70/100\n",
      "7772/7772 [==============================] - 0s 44us/step - loss: 0.0951\n",
      "Epoch 71/100\n",
      "7772/7772 [==============================] - 0s 44us/step - loss: 0.0951\n",
      "Epoch 72/100\n",
      "7772/7772 [==============================] - 0s 44us/step - loss: 0.0950\n",
      "Epoch 73/100\n",
      "7772/7772 [==============================] - 0s 44us/step - loss: 0.0950\n",
      "Epoch 74/100\n",
      "7772/7772 [==============================] - 0s 44us/step - loss: 0.0949\n",
      "Epoch 75/100\n",
      "7772/7772 [==============================] - 0s 44us/step - loss: 0.0948\n",
      "Epoch 76/100\n",
      "7772/7772 [==============================] - 0s 44us/step - loss: 0.0948\n",
      "Epoch 77/100\n",
      "7772/7772 [==============================] - 0s 43us/step - loss: 0.0947\n",
      "Epoch 78/100\n",
      "7772/7772 [==============================] - 0s 44us/step - loss: 0.0947\n",
      "Epoch 79/100\n",
      "7772/7772 [==============================] - 0s 44us/step - loss: 0.0945\n",
      "Epoch 80/100\n",
      "7772/7772 [==============================] - 0s 44us/step - loss: 0.0945\n",
      "Epoch 81/100\n",
      "7772/7772 [==============================] - 0s 44us/step - loss: 0.0945\n",
      "Epoch 82/100\n",
      "7772/7772 [==============================] - 0s 44us/step - loss: 0.0944\n",
      "Epoch 83/100\n",
      "7772/7772 [==============================] - 0s 44us/step - loss: 0.0943\n",
      "Epoch 84/100\n",
      "7772/7772 [==============================] - 0s 44us/step - loss: 0.0943\n",
      "Epoch 85/100\n",
      "7772/7772 [==============================] - 0s 44us/step - loss: 0.0942\n",
      "Epoch 86/100\n",
      "7772/7772 [==============================] - 0s 44us/step - loss: 0.0942\n",
      "Epoch 87/100\n",
      "7772/7772 [==============================] - 0s 44us/step - loss: 0.0941\n",
      "Epoch 88/100\n",
      "7772/7772 [==============================] - 0s 44us/step - loss: 0.0941\n",
      "Epoch 89/100\n",
      "7772/7772 [==============================] - 0s 44us/step - loss: 0.0940\n",
      "Epoch 90/100\n",
      "7772/7772 [==============================] - 0s 44us/step - loss: 0.0940\n",
      "Epoch 91/100\n",
      "7772/7772 [==============================] - 0s 44us/step - loss: 0.0939\n",
      "Epoch 92/100\n"
     ]
    },
    {
     "name": "stdout",
     "output_type": "stream",
     "text": [
      "7772/7772 [==============================] - 0s 44us/step - loss: 0.0939\n",
      "Epoch 93/100\n",
      "7772/7772 [==============================] - 0s 44us/step - loss: 0.0938\n",
      "Epoch 94/100\n",
      "7772/7772 [==============================] - 0s 44us/step - loss: 0.0938\n",
      "Epoch 95/100\n",
      "7772/7772 [==============================] - 0s 44us/step - loss: 0.0937\n",
      "Epoch 96/100\n",
      "7772/7772 [==============================] - 0s 44us/step - loss: 0.0937\n",
      "Epoch 97/100\n",
      "7772/7772 [==============================] - 0s 44us/step - loss: 0.0936\n",
      "Epoch 98/100\n",
      "7772/7772 [==============================] - 0s 44us/step - loss: 0.0936\n",
      "Epoch 99/100\n",
      "7772/7772 [==============================] - 0s 44us/step - loss: 0.0936\n",
      "Epoch 100/100\n",
      "7772/7772 [==============================] - 0s 44us/step - loss: 0.0935\n"
     ]
    }
   ],
   "source": [
    "history=model.fit(X_train, Ytrain, epochs=100, batch_size=32,verbose=1)\n",
    "YtestPredicted_raw=model.predict(X_test)\n",
    "avePrec =label_ranking_average_precision_score(Ytest, YtestPredicted_raw) "
   ]
  },
  {
   "cell_type": "code",
   "execution_count": 27,
   "metadata": {},
   "outputs": [
    {
     "data": {
      "text/plain": [
       "0.4995345988369071"
      ]
     },
     "execution_count": 27,
     "metadata": {},
     "output_type": "execute_result"
    }
   ],
   "source": [
    "avePrec"
   ]
  },
  {
   "cell_type": "code",
   "execution_count": 28,
   "metadata": {},
   "outputs": [],
   "source": [
    "results={'treshold':[],'Average Precision':[],'F1 (micro)':[],'F1 (macro)':[],'Method':[]}"
   ]
  },
  {
   "cell_type": "code",
   "execution_count": 29,
   "metadata": {},
   "outputs": [
    {
     "name": "stderr",
     "output_type": "stream",
     "text": [
      "/home/ubuntuadmin/anaconda37/lib/python3.7/site-packages/sklearn/metrics/_classification.py:1515: UndefinedMetricWarning: F-score is ill-defined and being set to 0.0 in labels with no true nor predicted samples. Use `zero_division` parameter to control this behavior.\n",
      "  average, \"true nor predicted\", 'F-score is', len(true_sum)\n"
     ]
    }
   ],
   "source": [
    "for treshold in arange(0.05,0.55,0.05):  \n",
    "    YtestPredicted=None\n",
    "    YtestPredicted=YtestPredicted_raw.copy()\n",
    "    results['treshold'].append(treshold)\n",
    "    results['Average Precision'].append(avePrec)\n",
    "    YtestPredicted[YtestPredicted>=treshold]=1\n",
    "    YtestPredicted[YtestPredicted<treshold]=0\n",
    "    results['F1 (micro)'].append  (f1_score(Ytest, YtestPredicted, average='micro'))\n",
    "    results['F1 (macro)'].append  (f1_score(Ytest, YtestPredicted, average='macro'))\n",
    "    results['Method'].append ('TripletProt')\n"
   ]
  },
  {
   "cell_type": "code",
   "execution_count": 30,
   "metadata": {},
   "outputs": [],
   "source": [
    "df_results=pd.DataFrame(results)"
   ]
  },
  {
   "cell_type": "code",
   "execution_count": 31,
   "metadata": {},
   "outputs": [
    {
     "data": {
      "text/html": [
       "<div>\n",
       "<style scoped>\n",
       "    .dataframe tbody tr th:only-of-type {\n",
       "        vertical-align: middle;\n",
       "    }\n",
       "\n",
       "    .dataframe tbody tr th {\n",
       "        vertical-align: top;\n",
       "    }\n",
       "\n",
       "    .dataframe thead th {\n",
       "        text-align: right;\n",
       "    }\n",
       "</style>\n",
       "<table border=\"1\" class=\"dataframe\">\n",
       "  <thead>\n",
       "    <tr style=\"text-align: right;\">\n",
       "      <th></th>\n",
       "      <th>treshold</th>\n",
       "      <th>Average Precision</th>\n",
       "      <th>F1 (micro)</th>\n",
       "      <th>F1 (macro)</th>\n",
       "      <th>Method</th>\n",
       "    </tr>\n",
       "  </thead>\n",
       "  <tbody>\n",
       "    <tr>\n",
       "      <th>0</th>\n",
       "      <td>0.05</td>\n",
       "      <td>0.499535</td>\n",
       "      <td>0.317396</td>\n",
       "      <td>0.194042</td>\n",
       "      <td>TripletProt</td>\n",
       "    </tr>\n",
       "    <tr>\n",
       "      <th>1</th>\n",
       "      <td>0.10</td>\n",
       "      <td>0.499535</td>\n",
       "      <td>0.390645</td>\n",
       "      <td>0.224354</td>\n",
       "      <td>TripletProt</td>\n",
       "    </tr>\n",
       "    <tr>\n",
       "      <th>2</th>\n",
       "      <td>0.15</td>\n",
       "      <td>0.499535</td>\n",
       "      <td>0.429025</td>\n",
       "      <td>0.228960</td>\n",
       "      <td>TripletProt</td>\n",
       "    </tr>\n",
       "    <tr>\n",
       "      <th>3</th>\n",
       "      <td>0.20</td>\n",
       "      <td>0.499535</td>\n",
       "      <td>0.448706</td>\n",
       "      <td>0.220395</td>\n",
       "      <td>TripletProt</td>\n",
       "    </tr>\n",
       "    <tr>\n",
       "      <th>4</th>\n",
       "      <td>0.25</td>\n",
       "      <td>0.499535</td>\n",
       "      <td>0.457050</td>\n",
       "      <td>0.211765</td>\n",
       "      <td>TripletProt</td>\n",
       "    </tr>\n",
       "    <tr>\n",
       "      <th>5</th>\n",
       "      <td>0.30</td>\n",
       "      <td>0.499535</td>\n",
       "      <td>0.456187</td>\n",
       "      <td>0.199069</td>\n",
       "      <td>TripletProt</td>\n",
       "    </tr>\n",
       "    <tr>\n",
       "      <th>6</th>\n",
       "      <td>0.35</td>\n",
       "      <td>0.499535</td>\n",
       "      <td>0.449944</td>\n",
       "      <td>0.182735</td>\n",
       "      <td>TripletProt</td>\n",
       "    </tr>\n",
       "    <tr>\n",
       "      <th>7</th>\n",
       "      <td>0.40</td>\n",
       "      <td>0.499535</td>\n",
       "      <td>0.437714</td>\n",
       "      <td>0.168345</td>\n",
       "      <td>TripletProt</td>\n",
       "    </tr>\n",
       "    <tr>\n",
       "      <th>8</th>\n",
       "      <td>0.45</td>\n",
       "      <td>0.499535</td>\n",
       "      <td>0.421382</td>\n",
       "      <td>0.153327</td>\n",
       "      <td>TripletProt</td>\n",
       "    </tr>\n",
       "    <tr>\n",
       "      <th>9</th>\n",
       "      <td>0.50</td>\n",
       "      <td>0.499535</td>\n",
       "      <td>0.400206</td>\n",
       "      <td>0.136695</td>\n",
       "      <td>TripletProt</td>\n",
       "    </tr>\n",
       "  </tbody>\n",
       "</table>\n",
       "</div>"
      ],
      "text/plain": [
       "   treshold  Average Precision  F1 (micro)  F1 (macro)       Method\n",
       "0      0.05           0.499535    0.317396    0.194042  TripletProt\n",
       "1      0.10           0.499535    0.390645    0.224354  TripletProt\n",
       "2      0.15           0.499535    0.429025    0.228960  TripletProt\n",
       "3      0.20           0.499535    0.448706    0.220395  TripletProt\n",
       "4      0.25           0.499535    0.457050    0.211765  TripletProt\n",
       "5      0.30           0.499535    0.456187    0.199069  TripletProt\n",
       "6      0.35           0.499535    0.449944    0.182735  TripletProt\n",
       "7      0.40           0.499535    0.437714    0.168345  TripletProt\n",
       "8      0.45           0.499535    0.421382    0.153327  TripletProt\n",
       "9      0.50           0.499535    0.400206    0.136695  TripletProt"
      ]
     },
     "execution_count": 31,
     "metadata": {},
     "output_type": "execute_result"
    }
   ],
   "source": [
    "df_results.head(50)"
   ]
  },
  {
   "cell_type": "code",
   "execution_count": 32,
   "metadata": {},
   "outputs": [],
   "source": [
    "df_results.to_csv('../../../data/_Outputs/Final_TripletProt_BP.csv',index=False)"
   ]
  },
  {
   "cell_type": "code",
   "execution_count": null,
   "metadata": {},
   "outputs": [],
   "source": []
  }
 ],
 "metadata": {
  "kernelspec": {
   "display_name": "Python 3",
   "language": "python",
   "name": "python3"
  },
  "language_info": {
   "codemirror_mode": {
    "name": "ipython",
    "version": 3
   },
   "file_extension": ".py",
   "mimetype": "text/x-python",
   "name": "python",
   "nbconvert_exporter": "python",
   "pygments_lexer": "ipython3",
   "version": "3.7.6"
  }
 },
 "nbformat": 4,
 "nbformat_minor": 2
}
