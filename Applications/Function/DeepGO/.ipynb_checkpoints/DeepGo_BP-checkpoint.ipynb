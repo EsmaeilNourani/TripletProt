{
 "cells": [
  {
   "cell_type": "code",
   "execution_count": 1,
   "metadata": {},
   "outputs": [],
   "source": [
    "import pandas as pd\n",
    "\n",
    "import numpy as np\n",
    "\n",
    "import pickle"
   ]
  },
  {
   "cell_type": "markdown",
   "metadata": {},
   "source": [
    "# Load Datasets"
   ]
  },
  {
   "cell_type": "code",
   "execution_count": 2,
   "metadata": {},
   "outputs": [],
   "source": [
    "#Reference of the dataset from DeepGO\n",
    "# ! tar -xvzf  CAFA3_training_data/data12G/data/train.tar.gz"
   ]
  },
  {
   "cell_type": "markdown",
   "metadata": {},
   "source": [
    "### Load Biological Process Terms"
   ]
  },
  {
   "cell_type": "code",
   "execution_count": 3,
   "metadata": {},
   "outputs": [],
   "source": [
    "trainBP_terms=pd.read_pickle('../../../data/DeepGo/train-bp.pkl')\n",
    "\n",
    "trainBP_terms=trainBP_terms[trainBP_terms['orgs']=='9606']\n",
    "\n",
    "testBP_terms=pd.read_pickle('../../../data/DeepGo/test-bp.pkl')\n",
    "\n",
    "testBP_terms=testBP_terms[testBP_terms['orgs']=='9606']\n",
    "\n",
    "trainBP_terms.columns=['uniprot_ac', 'gos', 'labels', 'ngrams', 'proteins', 'sequences','orgs', 'embeddings']\n",
    "\n",
    "testBP_terms.columns=['uniprot_ac', 'gos', 'labels', 'ngrams', 'proteins', 'sequences','orgs', 'embeddings']"
   ]
  },
  {
   "cell_type": "markdown",
   "metadata": {},
   "source": [
    "# load DeepGO embeddings"
   ]
  },
  {
   "cell_type": "code",
   "execution_count": 5,
   "metadata": {},
   "outputs": [],
   "source": [
    "embedding_size=256\n",
    "\n",
    "trainProtein_weights = np.zeros((trainBP_terms.shape[0], embedding_size))\n",
    "\n",
    "testProtein_weights = np.zeros((testBP_terms.shape[0], embedding_size))\n",
    "\n",
    "\n"
   ]
  },
  {
   "cell_type": "code",
   "execution_count": 9,
   "metadata": {},
   "outputs": [
    {
     "data": {
      "text/plain": [
       "Index(['uniprot_ac', 'gos', 'labels', 'ngrams', 'proteins', 'sequences',\n",
       "       'orgs', 'embeddings'],\n",
       "      dtype='object')"
      ]
     },
     "execution_count": 9,
     "metadata": {},
     "output_type": "execute_result"
    }
   ],
   "source": [
    "trainBP_terms.columns"
   ]
  },
  {
   "cell_type": "code",
   "execution_count": 27,
   "metadata": {},
   "outputs": [],
   "source": [
    "for i in range(trainBP_terms.shape[0]):  \n",
    "    trainProtein_weights[i]=trainBP_terms.iloc[i][7]\n",
    "\n",
    "for i in range(testBP_terms.shape[0]):  \n",
    "    testProtein_weights[i]=testBP_terms.iloc[i][7]"
   ]
  },
  {
   "cell_type": "code",
   "execution_count": 29,
   "metadata": {},
   "outputs": [],
   "source": [
    "X_train=trainProtein_weights\n",
    "X_train=np.array(X_train)\n",
    "X_train=np.expand_dims(X_train,axis=-1)\n",
    "\n",
    "Ytrain=trainBP_terms[['labels']]\n",
    "Ytrain=Ytrain.labels.apply(pd.Series)\n",
    "Ytrain=np.array(Ytrain)\n",
    "\n",
    "X_test=testProtein_weights\n",
    "X_test=np.array(X_test)\n",
    "X_test=np.expand_dims(X_test,axis=-1)\n",
    "\n",
    "Ytest=testBP_terms[['labels']]\n",
    "Ytest=Ytest.labels.apply(pd.Series)\n",
    "Ytest=np.array(Ytest)\n"
   ]
  },
  {
   "cell_type": "markdown",
   "metadata": {},
   "source": [
    "# +++++++++++++++++++++++++++++++++++++++++++++"
   ]
  },
  {
   "cell_type": "markdown",
   "metadata": {},
   "source": [
    "### Train and Evaluate the model"
   ]
  },
  {
   "cell_type": "code",
   "execution_count": 30,
   "metadata": {},
   "outputs": [],
   "source": [
    "import sys\n",
    "sys.path.append('../../../utils/')\n",
    "\n",
    "from sklearn.model_selection import StratifiedKFold\n",
    "\n",
    "from  model import naive_CNN_classifier\n",
    "\n",
    "import keras\n",
    "\n",
    "from sklearn.metrics import label_ranking_average_precision_score\n",
    "\n",
    "from numpy import arange\n",
    "\n",
    "from sklearn.metrics import f1_score\n"
   ]
  },
  {
   "cell_type": "code",
   "execution_count": 31,
   "metadata": {},
   "outputs": [],
   "source": [
    "random_seed=13"
   ]
  },
  {
   "cell_type": "code",
   "execution_count": 32,
   "metadata": {},
   "outputs": [],
   "source": [
    "num_classes=Ytrain.shape[1]"
   ]
  },
  {
   "cell_type": "code",
   "execution_count": 33,
   "metadata": {},
   "outputs": [],
   "source": [
    "model=None\n",
    "model = naive_CNN_classifier(num_classes,embedding_size)"
   ]
  },
  {
   "cell_type": "code",
   "execution_count": 34,
   "metadata": {},
   "outputs": [],
   "source": [
    "history=model.fit(X_train, Ytrain, validation_data=(X_test,Ytest) ,epochs=50, batch_size=16,verbose=0)\n",
    "YtestPredicted_raw=model.predict(X_test)\n",
    "avePrec =label_ranking_average_precision_score(Ytest, YtestPredicted_raw) "
   ]
  },
  {
   "cell_type": "code",
   "execution_count": 35,
   "metadata": {},
   "outputs": [
    {
     "data": {
      "text/plain": [
       "0.40649887716258626"
      ]
     },
     "execution_count": 35,
     "metadata": {},
     "output_type": "execute_result"
    }
   ],
   "source": [
    "avePrec"
   ]
  },
  {
   "cell_type": "code",
   "execution_count": 36,
   "metadata": {},
   "outputs": [],
   "source": [
    "results={'treshold':[],'Average Precision':[],'F1 (micro)':[],'F1 (macro)':[],'Method':[]}"
   ]
  },
  {
   "cell_type": "code",
   "execution_count": 37,
   "metadata": {},
   "outputs": [
    {
     "name": "stderr",
     "output_type": "stream",
     "text": [
      "/home/ubuntuadmin/anaconda37/lib/python3.7/site-packages/sklearn/metrics/_classification.py:1515: UndefinedMetricWarning: F-score is ill-defined and being set to 0.0 in labels with no true nor predicted samples. Use `zero_division` parameter to control this behavior.\n",
      "  average, \"true nor predicted\", 'F-score is', len(true_sum)\n"
     ]
    }
   ],
   "source": [
    "for treshold in arange(0.05,0.55,0.05):  \n",
    "    YtestPredicted=None\n",
    "    YtestPredicted=YtestPredicted_raw.copy()\n",
    "    results['treshold'].append(treshold)\n",
    "    results['Average Precision'].append(avePrec)\n",
    "    YtestPredicted[YtestPredicted>=treshold]=1\n",
    "    YtestPredicted[YtestPredicted<treshold]=0\n",
    "    results['F1 (micro)'].append  (f1_score(Ytest, YtestPredicted, average='micro'))\n",
    "    results['F1 (macro)'].append  (f1_score(Ytest, YtestPredicted, average='macro'))\n",
    "    results['Method'].append ('DeepGO')\n"
   ]
  },
  {
   "cell_type": "code",
   "execution_count": 38,
   "metadata": {},
   "outputs": [],
   "source": [
    "df_results=pd.DataFrame(results)"
   ]
  },
  {
   "cell_type": "code",
   "execution_count": 39,
   "metadata": {},
   "outputs": [
    {
     "data": {
      "text/html": [
       "<div>\n",
       "<style scoped>\n",
       "    .dataframe tbody tr th:only-of-type {\n",
       "        vertical-align: middle;\n",
       "    }\n",
       "\n",
       "    .dataframe tbody tr th {\n",
       "        vertical-align: top;\n",
       "    }\n",
       "\n",
       "    .dataframe thead th {\n",
       "        text-align: right;\n",
       "    }\n",
       "</style>\n",
       "<table border=\"1\" class=\"dataframe\">\n",
       "  <thead>\n",
       "    <tr style=\"text-align: right;\">\n",
       "      <th></th>\n",
       "      <th>treshold</th>\n",
       "      <th>Average Precision</th>\n",
       "      <th>F1 (micro)</th>\n",
       "      <th>F1 (macro)</th>\n",
       "      <th>Method</th>\n",
       "    </tr>\n",
       "  </thead>\n",
       "  <tbody>\n",
       "    <tr>\n",
       "      <th>0</th>\n",
       "      <td>0.05</td>\n",
       "      <td>0.406499</td>\n",
       "      <td>0.322007</td>\n",
       "      <td>0.187423</td>\n",
       "      <td>DeepGO</td>\n",
       "    </tr>\n",
       "    <tr>\n",
       "      <th>1</th>\n",
       "      <td>0.10</td>\n",
       "      <td>0.406499</td>\n",
       "      <td>0.368999</td>\n",
       "      <td>0.204128</td>\n",
       "      <td>DeepGO</td>\n",
       "    </tr>\n",
       "    <tr>\n",
       "      <th>2</th>\n",
       "      <td>0.15</td>\n",
       "      <td>0.406499</td>\n",
       "      <td>0.391499</td>\n",
       "      <td>0.209600</td>\n",
       "      <td>DeepGO</td>\n",
       "    </tr>\n",
       "    <tr>\n",
       "      <th>3</th>\n",
       "      <td>0.20</td>\n",
       "      <td>0.406499</td>\n",
       "      <td>0.403063</td>\n",
       "      <td>0.208598</td>\n",
       "      <td>DeepGO</td>\n",
       "    </tr>\n",
       "    <tr>\n",
       "      <th>4</th>\n",
       "      <td>0.25</td>\n",
       "      <td>0.406499</td>\n",
       "      <td>0.407743</td>\n",
       "      <td>0.205537</td>\n",
       "      <td>DeepGO</td>\n",
       "    </tr>\n",
       "    <tr>\n",
       "      <th>5</th>\n",
       "      <td>0.30</td>\n",
       "      <td>0.406499</td>\n",
       "      <td>0.408565</td>\n",
       "      <td>0.201766</td>\n",
       "      <td>DeepGO</td>\n",
       "    </tr>\n",
       "    <tr>\n",
       "      <th>6</th>\n",
       "      <td>0.35</td>\n",
       "      <td>0.406499</td>\n",
       "      <td>0.405027</td>\n",
       "      <td>0.197203</td>\n",
       "      <td>DeepGO</td>\n",
       "    </tr>\n",
       "    <tr>\n",
       "      <th>7</th>\n",
       "      <td>0.40</td>\n",
       "      <td>0.406499</td>\n",
       "      <td>0.399490</td>\n",
       "      <td>0.192764</td>\n",
       "      <td>DeepGO</td>\n",
       "    </tr>\n",
       "    <tr>\n",
       "      <th>8</th>\n",
       "      <td>0.45</td>\n",
       "      <td>0.406499</td>\n",
       "      <td>0.388711</td>\n",
       "      <td>0.186258</td>\n",
       "      <td>DeepGO</td>\n",
       "    </tr>\n",
       "    <tr>\n",
       "      <th>9</th>\n",
       "      <td>0.50</td>\n",
       "      <td>0.406499</td>\n",
       "      <td>0.378260</td>\n",
       "      <td>0.180334</td>\n",
       "      <td>DeepGO</td>\n",
       "    </tr>\n",
       "  </tbody>\n",
       "</table>\n",
       "</div>"
      ],
      "text/plain": [
       "   treshold  Average Precision  F1 (micro)  F1 (macro)  Method\n",
       "0      0.05           0.406499    0.322007    0.187423  DeepGO\n",
       "1      0.10           0.406499    0.368999    0.204128  DeepGO\n",
       "2      0.15           0.406499    0.391499    0.209600  DeepGO\n",
       "3      0.20           0.406499    0.403063    0.208598  DeepGO\n",
       "4      0.25           0.406499    0.407743    0.205537  DeepGO\n",
       "5      0.30           0.406499    0.408565    0.201766  DeepGO\n",
       "6      0.35           0.406499    0.405027    0.197203  DeepGO\n",
       "7      0.40           0.406499    0.399490    0.192764  DeepGO\n",
       "8      0.45           0.406499    0.388711    0.186258  DeepGO\n",
       "9      0.50           0.406499    0.378260    0.180334  DeepGO"
      ]
     },
     "execution_count": 39,
     "metadata": {},
     "output_type": "execute_result"
    }
   ],
   "source": [
    "df_results.head(50)"
   ]
  },
  {
   "cell_type": "code",
   "execution_count": 40,
   "metadata": {},
   "outputs": [],
   "source": [
    "df_results.to_csv('../../../data/_Outputs/Final_DeepGO_BP.csv',index=False)"
   ]
  },
  {
   "cell_type": "code",
   "execution_count": null,
   "metadata": {},
   "outputs": [],
   "source": []
  }
 ],
 "metadata": {
  "kernelspec": {
   "display_name": "Python 3",
   "language": "python",
   "name": "python3"
  },
  "language_info": {
   "codemirror_mode": {
    "name": "ipython",
    "version": 3
   },
   "file_extension": ".py",
   "mimetype": "text/x-python",
   "name": "python",
   "nbconvert_exporter": "python",
   "pygments_lexer": "ipython3",
   "version": "3.7.6"
  }
 },
 "nbformat": 4,
 "nbformat_minor": 2
}
