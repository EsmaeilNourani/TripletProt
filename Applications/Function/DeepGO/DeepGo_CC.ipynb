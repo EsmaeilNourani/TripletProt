{
 "cells": [
  {
   "cell_type": "code",
   "execution_count": 1,
   "metadata": {},
   "outputs": [],
   "source": [
    "import pandas as pd\n",
    "\n",
    "import numpy as np\n",
    "\n",
    "import pickle"
   ]
  },
  {
   "cell_type": "markdown",
   "metadata": {},
   "source": [
    "# Load Datasets"
   ]
  },
  {
   "cell_type": "markdown",
   "metadata": {},
   "source": [
    "### Load Cellular Component Terms"
   ]
  },
  {
   "cell_type": "code",
   "execution_count": 2,
   "metadata": {},
   "outputs": [],
   "source": [
    "trainCC_terms=pd.read_pickle('../../../data/DeepGo/train-cc.pkl')\n",
    "\n",
    "trainCC_terms=trainCC_terms[trainCC_terms['orgs']=='9606']\n",
    "\n",
    "testCC_terms=pd.read_pickle('../../../data/DeepGo/test-cc.pkl')\n",
    "\n",
    "testCC_terms=testCC_terms[testCC_terms['orgs']=='9606']\n",
    "\n",
    "trainCC_terms.columns=['uniprot_ac', 'gos', 'labels', 'ngrams', 'proteins', 'sequences','orgs', 'embeddings']\n",
    "\n",
    "testCC_terms.columns=['uniprot_ac', 'gos', 'labels', 'ngrams', 'proteins', 'sequences','orgs', 'embeddings']"
   ]
  },
  {
   "cell_type": "markdown",
   "metadata": {},
   "source": [
    "# load DeepGO embeddings"
   ]
  },
  {
   "cell_type": "code",
   "execution_count": 3,
   "metadata": {},
   "outputs": [],
   "source": [
    "embedding_size=256\n",
    "\n",
    "trainProtein_weights = np.zeros((trainCC_terms.shape[0], embedding_size))\n",
    "\n",
    "testProtein_weights = np.zeros((testCC_terms.shape[0], embedding_size))\n",
    "\n",
    "\n"
   ]
  },
  {
   "cell_type": "code",
   "execution_count": 4,
   "metadata": {},
   "outputs": [
    {
     "data": {
      "text/plain": [
       "Index(['uniprot_ac', 'gos', 'labels', 'ngrams', 'proteins', 'sequences',\n",
       "       'orgs', 'embeddings'],\n",
       "      dtype='object')"
      ]
     },
     "execution_count": 4,
     "metadata": {},
     "output_type": "execute_result"
    }
   ],
   "source": [
    "trainCC_terms.columns"
   ]
  },
  {
   "cell_type": "code",
   "execution_count": 5,
   "metadata": {},
   "outputs": [],
   "source": [
    "for i in range(trainCC_terms.shape[0]):  \n",
    "    trainProtein_weights[i]=trainCC_terms.iloc[i][7]\n",
    "\n",
    "for i in range(testCC_terms.shape[0]):  \n",
    "    testProtein_weights[i]=testCC_terms.iloc[i][7]"
   ]
  },
  {
   "cell_type": "code",
   "execution_count": 6,
   "metadata": {},
   "outputs": [],
   "source": [
    "X_train=trainProtein_weights\n",
    "X_train=np.array(X_train)\n",
    "Ytrain=trainCC_terms[['labels']]\n",
    "Ytrain=Ytrain.labels.apply(pd.Series)\n",
    "Ytrain=np.array(Ytrain)\n",
    "\n",
    "X_test=testProtein_weights\n",
    "X_test=np.array(X_test)\n",
    "Ytest=testCC_terms[['labels']]\n",
    "Ytest=Ytest.labels.apply(pd.Series)\n",
    "Ytest=np.array(Ytest)\n"
   ]
  },
  {
   "cell_type": "markdown",
   "metadata": {},
   "source": [
    "# +++++++++++++++++++++++++++++++++++++++++++++"
   ]
  },
  {
   "cell_type": "markdown",
   "metadata": {},
   "source": [
    "### Train and Evaluate the model"
   ]
  },
  {
   "cell_type": "code",
   "execution_count": 8,
   "metadata": {},
   "outputs": [],
   "source": [
    "import sys\n",
    "sys.path.append('../../../utils/')\n",
    "\n",
    "from sklearn.model_selection import StratifiedKFold\n",
    "\n",
    "from  model import feedForward_classifier\n",
    "\n",
    "import keras\n",
    "\n",
    "from sklearn.metrics import label_ranking_average_precision_score\n",
    "\n",
    "from numpy import arange\n",
    "\n",
    "from sklearn.metrics import f1_score\n"
   ]
  },
  {
   "cell_type": "code",
   "execution_count": 9,
   "metadata": {},
   "outputs": [],
   "source": [
    "random_seed=13"
   ]
  },
  {
   "cell_type": "code",
   "execution_count": 10,
   "metadata": {},
   "outputs": [],
   "source": [
    "num_classes=Ytrain.shape[1]"
   ]
  },
  {
   "cell_type": "code",
   "execution_count": 13,
   "metadata": {},
   "outputs": [
    {
     "name": "stdout",
     "output_type": "stream",
     "text": [
      "WARNING:tensorflow:From /home/ubuntuadmin/anaconda37/lib/python3.7/site-packages/keras/backend/tensorflow_backend.py:74: The name tf.get_default_graph is deprecated. Please use tf.compat.v1.get_default_graph instead.\n",
      "\n",
      "WARNING:tensorflow:From /home/ubuntuadmin/anaconda37/lib/python3.7/site-packages/keras/optimizers.py:790: The name tf.train.Optimizer is deprecated. Please use tf.compat.v1.train.Optimizer instead.\n",
      "\n"
     ]
    }
   ],
   "source": [
    "model=None\n",
    "model = feedForward_classifier(num_classes,embedding_size)"
   ]
  },
  {
   "cell_type": "code",
   "execution_count": 14,
   "metadata": {},
   "outputs": [
    {
     "name": "stdout",
     "output_type": "stream",
     "text": [
      "WARNING:tensorflow:From /home/ubuntuadmin/anaconda37/lib/python3.7/site-packages/keras/backend/tensorflow_backend.py:517: The name tf.placeholder is deprecated. Please use tf.compat.v1.placeholder instead.\n",
      "\n",
      "WARNING:tensorflow:From /home/ubuntuadmin/anaconda37/lib/python3.7/site-packages/keras/backend/tensorflow_backend.py:4138: The name tf.random_uniform is deprecated. Please use tf.random.uniform instead.\n",
      "\n",
      "WARNING:tensorflow:From /home/ubuntuadmin/anaconda37/lib/python3.7/site-packages/keras/backend/tensorflow_backend.py:3376: The name tf.log is deprecated. Please use tf.math.log instead.\n",
      "\n",
      "WARNING:tensorflow:From /home/ubuntuadmin/anaconda37/lib/python3.7/site-packages/tensorflow/python/ops/nn_impl.py:180: add_dispatch_support.<locals>.wrapper (from tensorflow.python.ops.array_ops) is deprecated and will be removed in a future version.\n",
      "Instructions for updating:\n",
      "Use tf.where in 2.0, which has the same broadcast rule as np.where\n",
      "WARNING:tensorflow:From /home/ubuntuadmin/anaconda37/lib/python3.7/site-packages/keras/backend/tensorflow_backend.py:986: The name tf.assign_add is deprecated. Please use tf.compat.v1.assign_add instead.\n",
      "\n"
     ]
    }
   ],
   "source": [
    "history=model.fit(X_train, Ytrain, epochs=100, batch_size=32,verbose=0)\n",
    "YtestPredicted_raw=model.predict(X_test)\n",
    "avePrec =label_ranking_average_precision_score(Ytest, YtestPredicted_raw) "
   ]
  },
  {
   "cell_type": "code",
   "execution_count": 15,
   "metadata": {},
   "outputs": [
    {
     "data": {
      "text/plain": [
       "0.6101046274621381"
      ]
     },
     "execution_count": 15,
     "metadata": {},
     "output_type": "execute_result"
    }
   ],
   "source": [
    "avePrec"
   ]
  },
  {
   "cell_type": "code",
   "execution_count": 16,
   "metadata": {},
   "outputs": [],
   "source": [
    "results={'treshold':[],'Average Precision':[],'F1 (micro)':[],'F1 (macro)':[],'Method':[]}"
   ]
  },
  {
   "cell_type": "code",
   "execution_count": 17,
   "metadata": {},
   "outputs": [
    {
     "name": "stderr",
     "output_type": "stream",
     "text": [
      "/home/ubuntuadmin/anaconda37/lib/python3.7/site-packages/sklearn/metrics/_classification.py:1515: UndefinedMetricWarning: F-score is ill-defined and being set to 0.0 in labels with no true nor predicted samples. Use `zero_division` parameter to control this behavior.\n",
      "  average, \"true nor predicted\", 'F-score is', len(true_sum)\n"
     ]
    }
   ],
   "source": [
    "for treshold in arange(0.05,0.55,0.05):  \n",
    "    YtestPredicted=None\n",
    "    YtestPredicted=YtestPredicted_raw.copy()\n",
    "    results['treshold'].append(treshold)\n",
    "    results['Average Precision'].append(avePrec)\n",
    "    YtestPredicted[YtestPredicted>=treshold]=1\n",
    "    YtestPredicted[YtestPredicted<treshold]=0\n",
    "    results['F1 (micro)'].append  (f1_score(Ytest, YtestPredicted, average='micro'))\n",
    "    results['F1 (macro)'].append  (f1_score(Ytest, YtestPredicted, average='macro'))\n",
    "    results['Method'].append ('DeepGO')\n"
   ]
  },
  {
   "cell_type": "code",
   "execution_count": 18,
   "metadata": {},
   "outputs": [],
   "source": [
    "df_results=pd.DataFrame(results)"
   ]
  },
  {
   "cell_type": "code",
   "execution_count": 19,
   "metadata": {},
   "outputs": [
    {
     "data": {
      "text/html": [
       "<div>\n",
       "<style scoped>\n",
       "    .dataframe tbody tr th:only-of-type {\n",
       "        vertical-align: middle;\n",
       "    }\n",
       "\n",
       "    .dataframe tbody tr th {\n",
       "        vertical-align: top;\n",
       "    }\n",
       "\n",
       "    .dataframe thead th {\n",
       "        text-align: right;\n",
       "    }\n",
       "</style>\n",
       "<table border=\"1\" class=\"dataframe\">\n",
       "  <thead>\n",
       "    <tr style=\"text-align: right;\">\n",
       "      <th></th>\n",
       "      <th>treshold</th>\n",
       "      <th>Average Precision</th>\n",
       "      <th>F1 (micro)</th>\n",
       "      <th>F1 (macro)</th>\n",
       "      <th>Method</th>\n",
       "    </tr>\n",
       "  </thead>\n",
       "  <tbody>\n",
       "    <tr>\n",
       "      <th>0</th>\n",
       "      <td>0.05</td>\n",
       "      <td>0.610105</td>\n",
       "      <td>0.432632</td>\n",
       "      <td>0.111488</td>\n",
       "      <td>DeepGO</td>\n",
       "    </tr>\n",
       "    <tr>\n",
       "      <th>1</th>\n",
       "      <td>0.10</td>\n",
       "      <td>0.610105</td>\n",
       "      <td>0.473517</td>\n",
       "      <td>0.118753</td>\n",
       "      <td>DeepGO</td>\n",
       "    </tr>\n",
       "    <tr>\n",
       "      <th>2</th>\n",
       "      <td>0.15</td>\n",
       "      <td>0.610105</td>\n",
       "      <td>0.493318</td>\n",
       "      <td>0.121648</td>\n",
       "      <td>DeepGO</td>\n",
       "    </tr>\n",
       "    <tr>\n",
       "      <th>3</th>\n",
       "      <td>0.20</td>\n",
       "      <td>0.610105</td>\n",
       "      <td>0.513954</td>\n",
       "      <td>0.123334</td>\n",
       "      <td>DeepGO</td>\n",
       "    </tr>\n",
       "    <tr>\n",
       "      <th>4</th>\n",
       "      <td>0.25</td>\n",
       "      <td>0.610105</td>\n",
       "      <td>0.522753</td>\n",
       "      <td>0.123248</td>\n",
       "      <td>DeepGO</td>\n",
       "    </tr>\n",
       "    <tr>\n",
       "      <th>5</th>\n",
       "      <td>0.30</td>\n",
       "      <td>0.610105</td>\n",
       "      <td>0.522949</td>\n",
       "      <td>0.121285</td>\n",
       "      <td>DeepGO</td>\n",
       "    </tr>\n",
       "    <tr>\n",
       "      <th>6</th>\n",
       "      <td>0.35</td>\n",
       "      <td>0.610105</td>\n",
       "      <td>0.521764</td>\n",
       "      <td>0.118361</td>\n",
       "      <td>DeepGO</td>\n",
       "    </tr>\n",
       "    <tr>\n",
       "      <th>7</th>\n",
       "      <td>0.40</td>\n",
       "      <td>0.610105</td>\n",
       "      <td>0.516279</td>\n",
       "      <td>0.112502</td>\n",
       "      <td>DeepGO</td>\n",
       "    </tr>\n",
       "    <tr>\n",
       "      <th>8</th>\n",
       "      <td>0.45</td>\n",
       "      <td>0.610105</td>\n",
       "      <td>0.508725</td>\n",
       "      <td>0.108365</td>\n",
       "      <td>DeepGO</td>\n",
       "    </tr>\n",
       "    <tr>\n",
       "      <th>9</th>\n",
       "      <td>0.50</td>\n",
       "      <td>0.610105</td>\n",
       "      <td>0.499777</td>\n",
       "      <td>0.104498</td>\n",
       "      <td>DeepGO</td>\n",
       "    </tr>\n",
       "  </tbody>\n",
       "</table>\n",
       "</div>"
      ],
      "text/plain": [
       "   treshold  Average Precision  F1 (micro)  F1 (macro)  Method\n",
       "0      0.05           0.610105    0.432632    0.111488  DeepGO\n",
       "1      0.10           0.610105    0.473517    0.118753  DeepGO\n",
       "2      0.15           0.610105    0.493318    0.121648  DeepGO\n",
       "3      0.20           0.610105    0.513954    0.123334  DeepGO\n",
       "4      0.25           0.610105    0.522753    0.123248  DeepGO\n",
       "5      0.30           0.610105    0.522949    0.121285  DeepGO\n",
       "6      0.35           0.610105    0.521764    0.118361  DeepGO\n",
       "7      0.40           0.610105    0.516279    0.112502  DeepGO\n",
       "8      0.45           0.610105    0.508725    0.108365  DeepGO\n",
       "9      0.50           0.610105    0.499777    0.104498  DeepGO"
      ]
     },
     "execution_count": 19,
     "metadata": {},
     "output_type": "execute_result"
    }
   ],
   "source": [
    "df_results.head(50)"
   ]
  },
  {
   "cell_type": "code",
   "execution_count": 20,
   "metadata": {},
   "outputs": [],
   "source": [
    "df_results.to_csv('../../../data/_Outputs/Final_DeepGO_CC.csv',index=False)"
   ]
  },
  {
   "cell_type": "code",
   "execution_count": null,
   "metadata": {},
   "outputs": [],
   "source": []
  }
 ],
 "metadata": {
  "kernelspec": {
   "display_name": "Python 3",
   "language": "python",
   "name": "python3"
  },
  "language_info": {
   "codemirror_mode": {
    "name": "ipython",
    "version": 3
   },
   "file_extension": ".py",
   "mimetype": "text/x-python",
   "name": "python",
   "nbconvert_exporter": "python",
   "pygments_lexer": "ipython3",
   "version": "3.7.6"
  }
 },
 "nbformat": 4,
 "nbformat_minor": 2
}
