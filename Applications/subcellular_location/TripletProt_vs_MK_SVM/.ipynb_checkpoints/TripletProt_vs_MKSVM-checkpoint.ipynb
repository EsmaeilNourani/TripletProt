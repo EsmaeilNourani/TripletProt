{
 "cells": [
  {
   "cell_type": "code",
   "execution_count": 1,
   "metadata": {},
   "outputs": [],
   "source": [
    "import numpy as np\n",
    "import pandas as pd"
   ]
  },
  {
   "cell_type": "markdown",
   "metadata": {},
   "source": [
    "## Load Dataset"
   ]
  },
  {
   "cell_type": "code",
   "execution_count": 19,
   "metadata": {},
   "outputs": [],
   "source": [
    "import scipy.io\n",
    "D1 = scipy.io.loadmat('../../../data/MkSVM/dataset_3106.mat',squeeze_me=True)"
   ]
  },
  {
   "cell_type": "markdown",
   "metadata": {},
   "source": [
    "### Details of the Dataset"
   ]
  },
  {
   "cell_type": "code",
   "execution_count": 20,
   "metadata": {},
   "outputs": [
    {
     "data": {
      "text/plain": [
       "dict"
      ]
     },
     "execution_count": 20,
     "metadata": {},
     "output_type": "execute_result"
    }
   ],
   "source": [
    "type(D1)"
   ]
  },
  {
   "cell_type": "code",
   "execution_count": 21,
   "metadata": {},
   "outputs": [
    {
     "data": {
      "text/plain": [
       "dict_keys(['__header__', '__version__', '__globals__', 'Y_3106', 'label_name', 'protein_list', 'sequence_3106'])"
      ]
     },
     "execution_count": 21,
     "metadata": {},
     "output_type": "execute_result"
    }
   ],
   "source": [
    "D1.keys()"
   ]
  },
  {
   "cell_type": "code",
   "execution_count": 22,
   "metadata": {},
   "outputs": [
    {
     "data": {
      "text/plain": [
       "'MFRRKLTALDYHNPAGFNCKDETEFRNFIVWLEDQKIRHYKIEDRGNLRNIHSSDWPKFFEKYLRDVNCPFKIQDRQEAIDWLLGLAVRLEYGDNAEKYKDLVPDNSKTADNATKNAEPLINLDVNNPDFKAGVMALANLLQIQRHDDYLVMLKAIRILVQERLTQDAVAKANQTKEGLPVALDKHILGFDTGDAVLNEAAQILRLLHIEELRELQTKINEAIVAVQAIIADPKTDHRLGKVGR'"
      ]
     },
     "execution_count": 22,
     "metadata": {},
     "output_type": "execute_result"
    }
   ],
   "source": [
    "D1['sequence_3106'][0]"
   ]
  },
  {
   "cell_type": "code",
   "execution_count": 23,
   "metadata": {},
   "outputs": [
    {
     "data": {
      "text/plain": [
       "array([1, 0, 0, 0, 0, 0, 0, 0, 0, 0, 1, 0, 0, 0], dtype=uint8)"
      ]
     },
     "execution_count": 23,
     "metadata": {},
     "output_type": "execute_result"
    }
   ],
   "source": [
    "D1['Y_3106'][0]"
   ]
  },
  {
   "cell_type": "code",
   "execution_count": 24,
   "metadata": {},
   "outputs": [
    {
     "data": {
      "text/plain": [
       "array([[1, 0, 0, ..., 0, 0, 0],\n",
       "       [1, 0, 0, ..., 0, 0, 0],\n",
       "       [1, 0, 1, ..., 0, 0, 0],\n",
       "       ...,\n",
       "       [0, 0, 0, ..., 0, 0, 1],\n",
       "       [0, 0, 0, ..., 0, 0, 1],\n",
       "       [0, 0, 0, ..., 0, 0, 1]], dtype=uint8)"
      ]
     },
     "execution_count": 24,
     "metadata": {},
     "output_type": "execute_result"
    }
   ],
   "source": [
    "D1['Y_3106']"
   ]
  },
  {
   "cell_type": "code",
   "execution_count": 25,
   "metadata": {},
   "outputs": [
    {
     "data": {
      "text/plain": [
       "3106"
      ]
     },
     "execution_count": 25,
     "metadata": {},
     "output_type": "execute_result"
    }
   ],
   "source": [
    "len(D1['sequence_3106'])"
   ]
  },
  {
   "cell_type": "markdown",
   "metadata": {},
   "source": [
    "#### Number of multiplex proteins"
   ]
  },
  {
   "cell_type": "code",
   "execution_count": 26,
   "metadata": {},
   "outputs": [
    {
     "data": {
      "text/plain": [
       "526"
      ]
     },
     "execution_count": 26,
     "metadata": {},
     "output_type": "execute_result"
    }
   ],
   "source": [
    "len(np.nonzero(np.sum(D1['Y_3106'],axis=1)>1)[0])"
   ]
  },
  {
   "cell_type": "code",
   "execution_count": 27,
   "metadata": {},
   "outputs": [
    {
     "data": {
      "text/plain": [
       "array(['Centrosome', 'Cytoplasm', 'Cytoskeleton', 'Endosome',\n",
       "       'Endoplasmic-Reticulum', 'Extracellular', 'Golgi-Apparatus',\n",
       "       'Lysosome', 'Microsome', 'Mitochondrion', 'Nucleus', 'Peroxisome',\n",
       "       'Plasma-Membrane', 'Synapse'], dtype=object)"
      ]
     },
     "execution_count": 27,
     "metadata": {},
     "output_type": "execute_result"
    }
   ],
   "source": [
    "D1['label_name']"
   ]
  },
  {
   "cell_type": "code",
   "execution_count": 28,
   "metadata": {},
   "outputs": [
    {
     "data": {
      "text/plain": [
       "'Q9Y224'"
      ]
     },
     "execution_count": 28,
     "metadata": {},
     "output_type": "execute_result"
    }
   ],
   "source": [
    "D1['protein_list'][0]"
   ]
  },
  {
   "cell_type": "markdown",
   "metadata": {},
   "source": [
    "### Extract Proteins from the Dataset"
   ]
  },
  {
   "cell_type": "code",
   "execution_count": 29,
   "metadata": {},
   "outputs": [],
   "source": [
    "dfTrain=pd.DataFrame(D1['protein_list'],columns=['uniprot_ac'])"
   ]
  },
  {
   "cell_type": "code",
   "execution_count": 30,
   "metadata": {},
   "outputs": [
    {
     "data": {
      "text/plain": [
       "(3106, 1)"
      ]
     },
     "execution_count": 30,
     "metadata": {},
     "output_type": "execute_result"
    }
   ],
   "source": [
    "dfTrain.shape"
   ]
  },
  {
   "cell_type": "markdown",
   "metadata": {},
   "source": [
    "## Map Uniprot 2 String"
   ]
  },
  {
   "cell_type": "markdown",
   "metadata": {},
   "source": [
    "* STring IDs are required for embedding generation"
   ]
  },
  {
   "cell_type": "code",
   "execution_count": 31,
   "metadata": {},
   "outputs": [],
   "source": [
    "import sys\n",
    "sys.path.append('../../../utils/')"
   ]
  },
  {
   "cell_type": "code",
   "execution_count": 32,
   "metadata": {},
   "outputs": [],
   "source": [
    "from  utils import UniprotID_to_StringId"
   ]
  },
  {
   "cell_type": "code",
   "execution_count": 33,
   "metadata": {},
   "outputs": [
    {
     "name": "stdout",
     "output_type": "stream",
     "text": [
      "Not Matched:  55\n"
     ]
    }
   ],
   "source": [
    "dfTrain.columns=['uniprot_ac']\n",
    "dfTrain=UniprotID_to_StringId(dfTrain)"
   ]
  },
  {
   "cell_type": "code",
   "execution_count": 34,
   "metadata": {},
   "outputs": [
    {
     "data": {
      "text/plain": [
       "(3106, 3)"
      ]
     },
     "execution_count": 34,
     "metadata": {},
     "output_type": "execute_result"
    }
   ],
   "source": [
    "dfTrain.shape"
   ]
  },
  {
   "cell_type": "code",
   "execution_count": 35,
   "metadata": {},
   "outputs": [
    {
     "data": {
      "text/html": [
       "<div>\n",
       "<style scoped>\n",
       "    .dataframe tbody tr th:only-of-type {\n",
       "        vertical-align: middle;\n",
       "    }\n",
       "\n",
       "    .dataframe tbody tr th {\n",
       "        vertical-align: top;\n",
       "    }\n",
       "\n",
       "    .dataframe thead th {\n",
       "        text-align: right;\n",
       "    }\n",
       "</style>\n",
       "<table border=\"1\" class=\"dataframe\">\n",
       "  <thead>\n",
       "    <tr style=\"text-align: right;\">\n",
       "      <th></th>\n",
       "      <th>uniprot_ac</th>\n",
       "      <th>uniprot_ac_uniprot_id</th>\n",
       "      <th>string_id</th>\n",
       "    </tr>\n",
       "  </thead>\n",
       "  <tbody>\n",
       "    <tr>\n",
       "      <th>0</th>\n",
       "      <td>Q9Y224</td>\n",
       "      <td>Q9Y224|RTRAF_HUMAN</td>\n",
       "      <td>9606.ENSP00000261700</td>\n",
       "    </tr>\n",
       "    <tr>\n",
       "      <th>1</th>\n",
       "      <td>Q5JTW2</td>\n",
       "      <td>Q5JTW2|CEP78_HUMAN</td>\n",
       "      <td>9606.ENSP00000365782</td>\n",
       "    </tr>\n",
       "    <tr>\n",
       "      <th>2</th>\n",
       "      <td>Q7Z460</td>\n",
       "      <td>Q7Z460|CLAP1_HUMAN</td>\n",
       "      <td>9606.ENSP00000263710</td>\n",
       "    </tr>\n",
       "    <tr>\n",
       "      <th>3</th>\n",
       "      <td>Q5VT06</td>\n",
       "      <td>Q5VT06|CE350_HUMAN</td>\n",
       "      <td>9606.ENSP00000356579</td>\n",
       "    </tr>\n",
       "    <tr>\n",
       "      <th>4</th>\n",
       "      <td>Q5VYK3</td>\n",
       "      <td>Q5VYK3|ECM29_HUMAN</td>\n",
       "      <td>9606.ENSP00000259335</td>\n",
       "    </tr>\n",
       "  </tbody>\n",
       "</table>\n",
       "</div>"
      ],
      "text/plain": [
       "  uniprot_ac uniprot_ac_uniprot_id             string_id\n",
       "0     Q9Y224    Q9Y224|RTRAF_HUMAN  9606.ENSP00000261700\n",
       "1     Q5JTW2    Q5JTW2|CEP78_HUMAN  9606.ENSP00000365782\n",
       "2     Q7Z460    Q7Z460|CLAP1_HUMAN  9606.ENSP00000263710\n",
       "3     Q5VT06    Q5VT06|CE350_HUMAN  9606.ENSP00000356579\n",
       "4     Q5VYK3    Q5VYK3|ECM29_HUMAN  9606.ENSP00000259335"
      ]
     },
     "execution_count": 35,
     "metadata": {},
     "output_type": "execute_result"
    }
   ],
   "source": [
    "dfTrain.head()"
   ]
  },
  {
   "cell_type": "code",
   "execution_count": 36,
   "metadata": {},
   "outputs": [
    {
     "data": {
      "text/plain": [
       "3106"
      ]
     },
     "execution_count": 36,
     "metadata": {},
     "output_type": "execute_result"
    }
   ],
   "source": [
    "# all proteins belong to human\n",
    "len(np.nonzero (dfTrain['string_id'].str.contains('9606'))[0])"
   ]
  },
  {
   "cell_type": "markdown",
   "metadata": {},
   "source": [
    "# Load TripletProt Network and generate embeddings"
   ]
  },
  {
   "cell_type": "code",
   "execution_count": 37,
   "metadata": {},
   "outputs": [],
   "source": [
    "from  utils import generate_tripletProt_embeddings"
   ]
  },
  {
   "cell_type": "markdown",
   "metadata": {},
   "source": [
    "### Generate Train Embeddings"
   ]
  },
  {
   "cell_type": "code",
   "execution_count": 38,
   "metadata": {},
   "outputs": [
    {
     "name": "stdout",
     "output_type": "stream",
     "text": [
      "WARNING:tensorflow:From /home/ubuntuadmin/anaconda37/lib/python3.7/site-packages/keras/backend/tensorflow_backend.py:517: The name tf.placeholder is deprecated. Please use tf.compat.v1.placeholder instead.\n",
      "\n",
      "WARNING:tensorflow:From /home/ubuntuadmin/anaconda37/lib/python3.7/site-packages/keras/backend/tensorflow_backend.py:4138: The name tf.random_uniform is deprecated. Please use tf.random.uniform instead.\n",
      "\n",
      "WARNING:tensorflow:From /home/ubuntuadmin/anaconda37/lib/python3.7/site-packages/keras/backend/tensorflow_backend.py:174: The name tf.get_default_session is deprecated. Please use tf.compat.v1.get_default_session instead.\n",
      "\n",
      "WARNING:tensorflow:From /home/ubuntuadmin/anaconda37/lib/python3.7/site-packages/keras/backend/tensorflow_backend.py:181: The name tf.ConfigProto is deprecated. Please use tf.compat.v1.ConfigProto instead.\n",
      "\n",
      "WARNING:tensorflow:From /home/ubuntuadmin/anaconda37/lib/python3.7/site-packages/keras/backend/tensorflow_backend.py:186: The name tf.Session is deprecated. Please use tf.compat.v1.Session instead.\n",
      "\n",
      "WARNING:tensorflow:From /home/ubuntuadmin/anaconda37/lib/python3.7/site-packages/keras/optimizers.py:790: The name tf.train.Optimizer is deprecated. Please use tf.compat.v1.train.Optimizer instead.\n",
      "\n",
      "number of found:  3051\n"
     ]
    }
   ],
   "source": [
    "trainProtein_weights=generate_tripletProt_embeddings(dfTrain)"
   ]
  },
  {
   "cell_type": "code",
   "execution_count": 39,
   "metadata": {},
   "outputs": [
    {
     "data": {
      "text/plain": [
       "(3106, 64)"
      ]
     },
     "execution_count": 39,
     "metadata": {},
     "output_type": "execute_result"
    }
   ],
   "source": [
    "trainProtein_weights.shape"
   ]
  },
  {
   "cell_type": "code",
   "execution_count": 40,
   "metadata": {},
   "outputs": [],
   "source": [
    "X_train=trainProtein_weights"
   ]
  },
  {
   "cell_type": "code",
   "execution_count": 41,
   "metadata": {},
   "outputs": [],
   "source": [
    "X_train=np.array(X_train)"
   ]
  },
  {
   "cell_type": "code",
   "execution_count": 42,
   "metadata": {},
   "outputs": [],
   "source": [
    "y_train=D1['Y_3106']"
   ]
  },
  {
   "cell_type": "code",
   "execution_count": 43,
   "metadata": {},
   "outputs": [
    {
     "data": {
      "text/plain": [
       "(3106, 14)"
      ]
     },
     "execution_count": 43,
     "metadata": {},
     "output_type": "execute_result"
    }
   ],
   "source": [
    "y_train.shape"
   ]
  },
  {
   "cell_type": "code",
   "execution_count": 44,
   "metadata": {},
   "outputs": [
    {
     "data": {
      "text/plain": [
       "array([1, 0, 0, 0, 0, 0, 0, 0, 0, 0, 1, 0, 0, 0], dtype=uint8)"
      ]
     },
     "execution_count": 44,
     "metadata": {},
     "output_type": "execute_result"
    }
   ],
   "source": [
    "y_train[0]"
   ]
  },
  {
   "cell_type": "markdown",
   "metadata": {},
   "source": [
    "### Train and Evaluate the model"
   ]
  },
  {
   "cell_type": "code",
   "execution_count": 45,
   "metadata": {},
   "outputs": [],
   "source": [
    "from sklearn.model_selection import StratifiedKFold\n",
    "\n",
    "from  model import feedForward_classifier\n",
    "\n",
    "from sklearn.metrics import label_ranking_average_precision_score\n",
    "\n",
    "import keras\n"
   ]
  },
  {
   "cell_type": "code",
   "execution_count": 58,
   "metadata": {},
   "outputs": [],
   "source": [
    "embedding_size=64\n",
    "\n",
    "class_count=y_train.shape[1]"
   ]
  },
  {
   "cell_type": "code",
   "execution_count": 59,
   "metadata": {},
   "outputs": [],
   "source": [
    "def train_and_evaluate_model(W_train,Y_train,Kfold_repeat):\n",
    "    prec_list=[]; reca_list=[]; fscore_list=[] ; fold=0\n",
    "    random_seed=1311\n",
    "    all_histories=[]\n",
    "    Y = [np.argmax(y, axis=None, out=None) for y in Y_train]\n",
    "    for i in range (Kfold_repeat):\n",
    "        random_seed=random_seed*i\n",
    "        skf = StratifiedKFold(n_splits=5, random_state=random_seed,shuffle=True)\n",
    "        fold=0\n",
    "        for train_index, test_index in skf.split(W_train,Y):     \n",
    "            fold+=1\n",
    "            X_train, X_test = W_train[train_index], W_train[test_index] \n",
    "            y_train, y_test = Y_train[train_index], Y_train[test_index]\n",
    "            model = None # Clearing the NN.\n",
    "            model=feedForward_classifier(class_count,embedding_size)\n",
    "            history=model.fit(X_train, y_train ,epochs=50, batch_size=32,verbose=0)\n",
    "\n",
    "            all_histories.append(history)\n",
    "\n",
    "            YtestPredicted=model.predict(X_test)\n",
    "\n",
    "            avePrec =label_ranking_average_precision_score(y_test, YtestPredicted) \n",
    "\n",
    "            print(\"Repeat {:d}: Fold {:d}: Precision:{:.2f}% \".format(i+1,fold,avePrec*100))\n",
    "\n",
    "            prec_list.append(avePrec) \n",
    "\n",
    "    precission=sum(prec_list)/len(prec_list)*100 \n",
    "    print(\"Final: Precision:{:.2f}% \".format(precission ))"
   ]
  },
  {
   "cell_type": "code",
   "execution_count": 60,
   "metadata": {},
   "outputs": [
    {
     "name": "stdout",
     "output_type": "stream",
     "text": [
      "Repeat 1: Fold 1: Precision:74.96% \n",
      "Repeat 1: Fold 2: Precision:75.70% \n",
      "Repeat 1: Fold 3: Precision:79.24% \n",
      "Repeat 1: Fold 4: Precision:77.13% \n",
      "Repeat 1: Fold 5: Precision:77.94% \n",
      "Repeat 2: Fold 1: Precision:75.40% \n",
      "Repeat 2: Fold 2: Precision:76.26% \n",
      "Repeat 2: Fold 3: Precision:78.86% \n",
      "Repeat 2: Fold 4: Precision:78.24% \n",
      "Repeat 2: Fold 5: Precision:78.19% \n",
      "Repeat 3: Fold 1: Precision:74.95% \n",
      "Repeat 3: Fold 2: Precision:76.31% \n",
      "Repeat 3: Fold 3: Precision:78.90% \n",
      "Repeat 3: Fold 4: Precision:77.21% \n",
      "Repeat 3: Fold 5: Precision:78.21% \n",
      "Repeat 4: Fold 1: Precision:75.76% \n",
      "Repeat 4: Fold 2: Precision:76.14% \n",
      "Repeat 4: Fold 3: Precision:79.22% \n",
      "Repeat 4: Fold 4: Precision:77.15% \n",
      "Repeat 4: Fold 5: Precision:76.91% \n",
      "Repeat 5: Fold 1: Precision:75.82% \n",
      "Repeat 5: Fold 2: Precision:76.39% \n",
      "Repeat 5: Fold 3: Precision:77.98% \n",
      "Repeat 5: Fold 4: Precision:77.86% \n",
      "Repeat 5: Fold 5: Precision:78.05% \n",
      "Final: Precision:77.15% \n"
     ]
    }
   ],
   "source": [
    "\n",
    "train_and_evaluate_model(X_train,y_train,Kfold_repeat=5)\n"
   ]
  },
  {
   "cell_type": "code",
   "execution_count": null,
   "metadata": {},
   "outputs": [],
   "source": []
  }
 ],
 "metadata": {
  "kernelspec": {
   "display_name": "Python 3",
   "language": "python",
   "name": "python3"
  },
  "language_info": {
   "codemirror_mode": {
    "name": "ipython",
    "version": 3
   },
   "file_extension": ".py",
   "mimetype": "text/x-python",
   "name": "python",
   "nbconvert_exporter": "python",
   "pygments_lexer": "ipython3",
   "version": "3.7.6"
  }
 },
 "nbformat": 4,
 "nbformat_minor": 2
}
